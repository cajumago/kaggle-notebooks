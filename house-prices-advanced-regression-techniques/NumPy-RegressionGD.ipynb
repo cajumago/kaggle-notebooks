{
 "cells": [
  {
   "cell_type": "markdown",
   "id": "eae480cf",
   "metadata": {},
   "source": [
    "# Linear Regression using Gradient Descent\n",
    "\n",
    "- `Pandas`, `Scikit-learn` for cleaning data\n",
    "- `Matplotlib`, `Seaborn` for some basic visualizations\n",
    "- `NumPy` for scaling and predictions"
   ]
  },
  {
   "cell_type": "markdown",
   "id": "bb52f1c7",
   "metadata": {},
   "source": [
    "### 1. Packages"
   ]
  },
  {
   "cell_type": "code",
   "execution_count": 1,
   "id": "5f567ce8",
   "metadata": {},
   "outputs": [],
   "source": [
    "import pandas as pd\n",
    "import numpy as np\n",
    "import matplotlib.pyplot as plt\n",
    "import seaborn as sns\n",
    "import copy, math\n",
    "\n",
    "from sklearn.impute import SimpleImputer\n",
    "from sklearn.metrics import mean_absolute_error, mean_squared_error, r2_score, mean_squared_log_error"
   ]
  },
  {
   "cell_type": "markdown",
   "id": "b2e676f2",
   "metadata": {},
   "source": [
    "### 2. Loading the `train` dataset\n",
    "Before starting on any task, it is useful to get more familiar with your dataset."
   ]
  },
  {
   "cell_type": "code",
   "execution_count": 2,
   "id": "ab5dfbae",
   "metadata": {},
   "outputs": [
    {
     "name": "stdout",
     "output_type": "stream",
     "text": [
      "The shape of df_train is:  (1460, 80)\n"
     ]
    },
    {
     "data": {
      "text/html": [
       "<div>\n",
       "<style scoped>\n",
       "    .dataframe tbody tr th:only-of-type {\n",
       "        vertical-align: middle;\n",
       "    }\n",
       "\n",
       "    .dataframe tbody tr th {\n",
       "        vertical-align: top;\n",
       "    }\n",
       "\n",
       "    .dataframe thead th {\n",
       "        text-align: right;\n",
       "    }\n",
       "</style>\n",
       "<table border=\"1\" class=\"dataframe\">\n",
       "  <thead>\n",
       "    <tr style=\"text-align: right;\">\n",
       "      <th></th>\n",
       "      <th>MSSubClass</th>\n",
       "      <th>MSZoning</th>\n",
       "      <th>LotFrontage</th>\n",
       "      <th>LotArea</th>\n",
       "      <th>Street</th>\n",
       "      <th>Alley</th>\n",
       "      <th>LotShape</th>\n",
       "      <th>LandContour</th>\n",
       "      <th>Utilities</th>\n",
       "      <th>LotConfig</th>\n",
       "      <th>...</th>\n",
       "      <th>PoolArea</th>\n",
       "      <th>PoolQC</th>\n",
       "      <th>Fence</th>\n",
       "      <th>MiscFeature</th>\n",
       "      <th>MiscVal</th>\n",
       "      <th>MoSold</th>\n",
       "      <th>YrSold</th>\n",
       "      <th>SaleType</th>\n",
       "      <th>SaleCondition</th>\n",
       "      <th>SalePrice</th>\n",
       "    </tr>\n",
       "    <tr>\n",
       "      <th>Id</th>\n",
       "      <th></th>\n",
       "      <th></th>\n",
       "      <th></th>\n",
       "      <th></th>\n",
       "      <th></th>\n",
       "      <th></th>\n",
       "      <th></th>\n",
       "      <th></th>\n",
       "      <th></th>\n",
       "      <th></th>\n",
       "      <th></th>\n",
       "      <th></th>\n",
       "      <th></th>\n",
       "      <th></th>\n",
       "      <th></th>\n",
       "      <th></th>\n",
       "      <th></th>\n",
       "      <th></th>\n",
       "      <th></th>\n",
       "      <th></th>\n",
       "      <th></th>\n",
       "    </tr>\n",
       "  </thead>\n",
       "  <tbody>\n",
       "    <tr>\n",
       "      <th>1</th>\n",
       "      <td>60</td>\n",
       "      <td>RL</td>\n",
       "      <td>65.0</td>\n",
       "      <td>8450</td>\n",
       "      <td>Pave</td>\n",
       "      <td>NaN</td>\n",
       "      <td>Reg</td>\n",
       "      <td>Lvl</td>\n",
       "      <td>AllPub</td>\n",
       "      <td>Inside</td>\n",
       "      <td>...</td>\n",
       "      <td>0</td>\n",
       "      <td>NaN</td>\n",
       "      <td>NaN</td>\n",
       "      <td>NaN</td>\n",
       "      <td>0</td>\n",
       "      <td>2</td>\n",
       "      <td>2008</td>\n",
       "      <td>WD</td>\n",
       "      <td>Normal</td>\n",
       "      <td>208500</td>\n",
       "    </tr>\n",
       "    <tr>\n",
       "      <th>2</th>\n",
       "      <td>20</td>\n",
       "      <td>RL</td>\n",
       "      <td>80.0</td>\n",
       "      <td>9600</td>\n",
       "      <td>Pave</td>\n",
       "      <td>NaN</td>\n",
       "      <td>Reg</td>\n",
       "      <td>Lvl</td>\n",
       "      <td>AllPub</td>\n",
       "      <td>FR2</td>\n",
       "      <td>...</td>\n",
       "      <td>0</td>\n",
       "      <td>NaN</td>\n",
       "      <td>NaN</td>\n",
       "      <td>NaN</td>\n",
       "      <td>0</td>\n",
       "      <td>5</td>\n",
       "      <td>2007</td>\n",
       "      <td>WD</td>\n",
       "      <td>Normal</td>\n",
       "      <td>181500</td>\n",
       "    </tr>\n",
       "  </tbody>\n",
       "</table>\n",
       "<p>2 rows × 80 columns</p>\n",
       "</div>"
      ],
      "text/plain": [
       "    MSSubClass MSZoning  LotFrontage  LotArea Street Alley LotShape  \\\n",
       "Id                                                                    \n",
       "1           60       RL         65.0     8450   Pave   NaN      Reg   \n",
       "2           20       RL         80.0     9600   Pave   NaN      Reg   \n",
       "\n",
       "   LandContour Utilities LotConfig  ... PoolArea PoolQC Fence MiscFeature  \\\n",
       "Id                                  ...                                     \n",
       "1          Lvl    AllPub    Inside  ...        0    NaN   NaN         NaN   \n",
       "2          Lvl    AllPub       FR2  ...        0    NaN   NaN         NaN   \n",
       "\n",
       "   MiscVal MoSold  YrSold  SaleType  SaleCondition  SalePrice  \n",
       "Id                                                             \n",
       "1        0      2    2008        WD         Normal     208500  \n",
       "2        0      5    2007        WD         Normal     181500  \n",
       "\n",
       "[2 rows x 80 columns]"
      ]
     },
     "execution_count": 2,
     "metadata": {},
     "output_type": "execute_result"
    }
   ],
   "source": [
    "df_train = pd.read_csv('train.csv').set_index('Id')\n",
    "print ('The shape of df_train is: ', df_train.shape)\n",
    "df_train.head(2)"
   ]
  },
  {
   "cell_type": "markdown",
   "id": "c8d4ed3e",
   "metadata": {},
   "source": [
    "- Target values are stored in a Numpy scalar `y_train`"
   ]
  },
  {
   "cell_type": "code",
   "execution_count": 3,
   "id": "7ef2eee3",
   "metadata": {},
   "outputs": [
    {
     "name": "stdout",
     "output_type": "stream",
     "text": [
      "y_train Shape: (1460,), y_train Type: <class 'numpy.ndarray'>)\n",
      "First element of y_train are:\n",
      " [208500 181500 223500 ... 266500 142125 147500]\n",
      "Dimension of y_train: 1\n"
     ]
    }
   ],
   "source": [
    "y_train = np.array(df_train['SalePrice'])\n",
    "# print y_train\n",
    "print(f\"y_train Shape: {y_train.shape}, y_train Type: {type(y_train)})\")\n",
    "print(\"First element of y_train are:\\n\", y_train[:])\n",
    "print(\"Dimension of y_train:\", y_train.ndim)"
   ]
  },
  {
   "cell_type": "markdown",
   "id": "86105eec",
   "metadata": {},
   "source": [
    "### 3. Visualize your data\n",
    "* Correlated columns with `SalePrice`"
   ]
  },
  {
   "cell_type": "code",
   "execution_count": 4,
   "id": "0349d86f",
   "metadata": {},
   "outputs": [
    {
     "data": {
      "text/plain": [
       "SalePrice      1.000000\n",
       "OverallQual    0.790982\n",
       "GrLivArea      0.708624\n",
       "GarageCars     0.640409\n",
       "GarageArea     0.623431\n",
       "TotalBsmtSF    0.613581\n",
       "1stFlrSF       0.605852\n",
       "Name: SalePrice, dtype: float64"
      ]
     },
     "execution_count": 4,
     "metadata": {},
     "output_type": "execute_result"
    }
   ],
   "source": [
    "corr = df_train.corr()\n",
    "corr.sort_values(['SalePrice'], ascending=False, inplace=True)\n",
    "corr.SalePrice.head(7)"
   ]
  },
  {
   "cell_type": "markdown",
   "id": "81d22dd4",
   "metadata": {},
   "source": [
    "- It is often useful to understand the data by visualizing it."
   ]
  },
  {
   "cell_type": "code",
   "execution_count": 5,
   "id": "56eec034",
   "metadata": {},
   "outputs": [
    {
     "data": {
      "image/png": "[encoded data removed]",
      "text/plain": [
       "<Figure size 1440x1080 with 6 Axes>"
      ]
     },
     "metadata": {
      "needs_background": "light"
     },
     "output_type": "display_data"
    }
   ],
   "source": [
    "fig, axes = plt.subplots(2,3, figsize=(20,15), sharey=True)\n",
    "\n",
    "plt.title('OverallQual')\n",
    "sns.scatterplot(ax=axes[0,0], data=df_train, x='OverallQual', y='SalePrice', color='b')\n",
    "plt.title('GrLivArea')\n",
    "sns.scatterplot(ax=axes[0,1], data=df_train, x='GrLivArea', y='SalePrice', color='g')\n",
    "plt.title('GarageCars')\n",
    "sns.scatterplot(ax=axes[0,2], data=df_train, x='GarageCars', y='SalePrice', color='b')\n",
    "plt.title('GarageArea')\n",
    "sns.scatterplot(ax=axes[1,0], data=df_train, x='GarageArea', y='SalePrice', color='g')\n",
    "plt.title('TotalBsmtSF')\n",
    "sns.scatterplot(ax=axes[1,1], data=df_train, x='TotalBsmtSF', y='SalePrice', color='b')\n",
    "plt.title('1stFlrSF')\n",
    "sns.scatterplot(ax=axes[1,2], data=df_train, x='1stFlrSF', y='SalePrice', color='g')\n",
    "\n",
    "plt.show()"
   ]
  },
  {
   "cell_type": "markdown",
   "id": "6a6cb879",
   "metadata": {},
   "source": [
    "### 4. Fixing Missing features"
   ]
  },
  {
   "cell_type": "markdown",
   "id": "a9274038",
   "metadata": {},
   "source": [
    "- Choosing numeric features and leaving out `SalePrice`"
   ]
  },
  {
   "cell_type": "code",
   "execution_count": 6,
   "id": "41755d56",
   "metadata": {},
   "outputs": [],
   "source": [
    "df_train.drop('SalePrice', axis=1, inplace=True)"
   ]
  },
  {
   "cell_type": "code",
   "execution_count": 7,
   "id": "eb6aeceb",
   "metadata": {
    "scrolled": true
   },
   "outputs": [
    {
     "data": {
      "text/html": [
       "<div>\n",
       "<style scoped>\n",
       "    .dataframe tbody tr th:only-of-type {\n",
       "        vertical-align: middle;\n",
       "    }\n",
       "\n",
       "    .dataframe tbody tr th {\n",
       "        vertical-align: top;\n",
       "    }\n",
       "\n",
       "    .dataframe thead th {\n",
       "        text-align: right;\n",
       "    }\n",
       "</style>\n",
       "<table border=\"1\" class=\"dataframe\">\n",
       "  <thead>\n",
       "    <tr style=\"text-align: right;\">\n",
       "      <th></th>\n",
       "      <th>MSSubClass</th>\n",
       "      <th>LotFrontage</th>\n",
       "      <th>LotArea</th>\n",
       "      <th>OverallQual</th>\n",
       "      <th>OverallCond</th>\n",
       "      <th>YearBuilt</th>\n",
       "      <th>YearRemodAdd</th>\n",
       "      <th>MasVnrArea</th>\n",
       "      <th>BsmtFinSF1</th>\n",
       "      <th>BsmtFinSF2</th>\n",
       "      <th>...</th>\n",
       "      <th>GarageArea</th>\n",
       "      <th>WoodDeckSF</th>\n",
       "      <th>OpenPorchSF</th>\n",
       "      <th>EnclosedPorch</th>\n",
       "      <th>3SsnPorch</th>\n",
       "      <th>ScreenPorch</th>\n",
       "      <th>PoolArea</th>\n",
       "      <th>MiscVal</th>\n",
       "      <th>MoSold</th>\n",
       "      <th>YrSold</th>\n",
       "    </tr>\n",
       "    <tr>\n",
       "      <th>Id</th>\n",
       "      <th></th>\n",
       "      <th></th>\n",
       "      <th></th>\n",
       "      <th></th>\n",
       "      <th></th>\n",
       "      <th></th>\n",
       "      <th></th>\n",
       "      <th></th>\n",
       "      <th></th>\n",
       "      <th></th>\n",
       "      <th></th>\n",
       "      <th></th>\n",
       "      <th></th>\n",
       "      <th></th>\n",
       "      <th></th>\n",
       "      <th></th>\n",
       "      <th></th>\n",
       "      <th></th>\n",
       "      <th></th>\n",
       "      <th></th>\n",
       "      <th></th>\n",
       "    </tr>\n",
       "  </thead>\n",
       "  <tbody>\n",
       "    <tr>\n",
       "      <th>1</th>\n",
       "      <td>60</td>\n",
       "      <td>65.0</td>\n",
       "      <td>8450</td>\n",
       "      <td>7</td>\n",
       "      <td>5</td>\n",
       "      <td>2003</td>\n",
       "      <td>2003</td>\n",
       "      <td>196.0</td>\n",
       "      <td>706</td>\n",
       "      <td>0</td>\n",
       "      <td>...</td>\n",
       "      <td>548</td>\n",
       "      <td>0</td>\n",
       "      <td>61</td>\n",
       "      <td>0</td>\n",
       "      <td>0</td>\n",
       "      <td>0</td>\n",
       "      <td>0</td>\n",
       "      <td>0</td>\n",
       "      <td>2</td>\n",
       "      <td>2008</td>\n",
       "    </tr>\n",
       "    <tr>\n",
       "      <th>2</th>\n",
       "      <td>20</td>\n",
       "      <td>80.0</td>\n",
       "      <td>9600</td>\n",
       "      <td>6</td>\n",
       "      <td>8</td>\n",
       "      <td>1976</td>\n",
       "      <td>1976</td>\n",
       "      <td>0.0</td>\n",
       "      <td>978</td>\n",
       "      <td>0</td>\n",
       "      <td>...</td>\n",
       "      <td>460</td>\n",
       "      <td>298</td>\n",
       "      <td>0</td>\n",
       "      <td>0</td>\n",
       "      <td>0</td>\n",
       "      <td>0</td>\n",
       "      <td>0</td>\n",
       "      <td>0</td>\n",
       "      <td>5</td>\n",
       "      <td>2007</td>\n",
       "    </tr>\n",
       "  </tbody>\n",
       "</table>\n",
       "<p>2 rows × 36 columns</p>\n",
       "</div>"
      ],
      "text/plain": [
       "    MSSubClass  LotFrontage  LotArea  OverallQual  OverallCond  YearBuilt  \\\n",
       "Id                                                                          \n",
       "1           60         65.0     8450            7            5       2003   \n",
       "2           20         80.0     9600            6            8       1976   \n",
       "\n",
       "    YearRemodAdd  MasVnrArea  BsmtFinSF1  BsmtFinSF2  ...  GarageArea  \\\n",
       "Id                                                    ...               \n",
       "1           2003       196.0         706           0  ...         548   \n",
       "2           1976         0.0         978           0  ...         460   \n",
       "\n",
       "    WoodDeckSF  OpenPorchSF  EnclosedPorch  3SsnPorch  ScreenPorch  PoolArea  \\\n",
       "Id                                                                             \n",
       "1            0           61              0          0            0         0   \n",
       "2          298            0              0          0            0         0   \n",
       "\n",
       "    MiscVal  MoSold  YrSold  \n",
       "Id                           \n",
       "1         0       2    2008  \n",
       "2         0       5    2007  \n",
       "\n",
       "[2 rows x 36 columns]"
      ]
     },
     "execution_count": 7,
     "metadata": {},
     "output_type": "execute_result"
    }
   ],
   "source": [
    "df_numeric_colmuns = df_train.select_dtypes(include=np.number)\n",
    "df_numeric_colmuns.head(2)"
   ]
  },
  {
   "cell_type": "markdown",
   "id": "55dfd522",
   "metadata": {},
   "source": [
    "- Checking Data as `pandas.DataFrame`"
   ]
  },
  {
   "cell_type": "code",
   "execution_count": 8,
   "id": "09745474",
   "metadata": {},
   "outputs": [
    {
     "data": {
      "text/plain": [
       "LotFrontage     259\n",
       "GarageYrBlt      81\n",
       "MasVnrArea        8\n",
       "WoodDeckSF        0\n",
       "BedroomAbvGr      0\n",
       "dtype: int64"
      ]
     },
     "execution_count": 8,
     "metadata": {},
     "output_type": "execute_result"
    }
   ],
   "source": [
    "df_numeric_colmuns.isna().sum().sort_values(ascending=False).head()"
   ]
  },
  {
   "cell_type": "markdown",
   "id": "e107af25",
   "metadata": {},
   "source": [
    "`isna()` = `isnull()` There is absolutely no difference"
   ]
  },
  {
   "cell_type": "code",
   "execution_count": 9,
   "id": "ccbf2e41",
   "metadata": {},
   "outputs": [
    {
     "data": {
      "text/plain": [
       "348"
      ]
     },
     "execution_count": 9,
     "metadata": {},
     "output_type": "execute_result"
    }
   ],
   "source": [
    "df_numeric_colmuns.isna().sum().sum()"
   ]
  },
  {
   "cell_type": "code",
   "execution_count": 10,
   "id": "1f71a663",
   "metadata": {},
   "outputs": [
    {
     "data": {
      "text/plain": [
       "348"
      ]
     },
     "execution_count": 10,
     "metadata": {},
     "output_type": "execute_result"
    }
   ],
   "source": [
    "df_numeric_colmuns.isnull().sum().sum()"
   ]
  },
  {
   "cell_type": "markdown",
   "id": "f7e5abfc",
   "metadata": {},
   "source": [
    "- Checking Data as `numpy.ndarray`"
   ]
  },
  {
   "cell_type": "code",
   "execution_count": 11,
   "id": "991acca7",
   "metadata": {},
   "outputs": [
    {
     "name": "stdout",
     "output_type": "stream",
     "text": [
      "348\n"
     ]
    }
   ],
   "source": [
    "X_train_raw = np.array(df_numeric_colmuns)\n",
    "print(np.sum(np.isnan(X_train_raw)))"
   ]
  },
  {
   "cell_type": "markdown",
   "id": "8ddc6dee",
   "metadata": {},
   "source": [
    "* Replace features values using a descriptive statistic `mean`"
   ]
  },
  {
   "cell_type": "code",
   "execution_count": 12,
   "id": "7c01ccea",
   "metadata": {},
   "outputs": [],
   "source": [
    "imp_mean = SimpleImputer(missing_values=np.nan, strategy='mean')\n",
    "X_train_clean = imp_mean.fit_transform(df_numeric_colmuns)"
   ]
  },
  {
   "cell_type": "markdown",
   "id": "50667f80",
   "metadata": {},
   "source": [
    "* Checking Data as `numpy.ndarray` after impute missing features"
   ]
  },
  {
   "cell_type": "code",
   "execution_count": 13,
   "id": "6b285d3c",
   "metadata": {},
   "outputs": [
    {
     "name": "stdout",
     "output_type": "stream",
     "text": [
      "0\n"
     ]
    }
   ],
   "source": [
    "print(np.sum(np.isnan(X_train_clean)))"
   ]
  },
  {
   "cell_type": "code",
   "execution_count": 14,
   "id": "6ba0f1c5",
   "metadata": {},
   "outputs": [
    {
     "name": "stdout",
     "output_type": "stream",
     "text": [
      "X_train_clean Shape: (1460, 36)\n",
      "X_train_clean Type: <class 'numpy.ndarray'>)\n",
      "Dimension of X_train_clean: 2\n"
     ]
    }
   ],
   "source": [
    "print(f\"X_train_clean Shape: {X_train_clean.shape}\")\n",
    "print(f\"X_train_clean Type: {type(X_train_clean)})\")\n",
    "print(\"Dimension of X_train_clean:\", X_train_clean.ndim)"
   ]
  },
  {
   "cell_type": "markdown",
   "id": "e114da0b",
   "metadata": {},
   "source": [
    "### 5. z-score normalization"
   ]
  },
  {
   "cell_type": "code",
   "execution_count": 15,
   "id": "fb7e2815",
   "metadata": {},
   "outputs": [],
   "source": [
    "def zscore_normalize_features(X):\n",
    "\n",
    "    # find the mean of each column/feature\n",
    "    mu = np.mean(X, axis=0)          # mu will have shape (n,)\n",
    "    # find the standard deviation of each column/feature\n",
    "    sigma  = np.std(X, axis=0)       # sigma will have shape (n,)\n",
    "    # element-wise, subtract mu for that column from each example, divide by std for that column\n",
    "    X_norm = (X-mu)/sigma\n",
    "    \n",
    "    return (X_norm, mu, sigma)"
   ]
  },
  {
   "cell_type": "markdown",
   "id": "d4e13098",
   "metadata": {},
   "source": [
    "* Normalize the numeric features"
   ]
  },
  {
   "cell_type": "code",
   "execution_count": 16,
   "id": "883dab4e",
   "metadata": {},
   "outputs": [
    {
     "name": "stdout",
     "output_type": "stream",
     "text": [
      "X_train_mu = [5.68972603e+01 7.00499584e+01 1.05168281e+04 6.09931507e+00\n",
      " 5.57534247e+00 1.97126781e+03 1.98486575e+03 1.03685262e+02\n",
      " 4.43639726e+02 4.65493151e+01 5.67240411e+02 1.05742945e+03\n",
      " 1.16262671e+03 3.46992466e+02 5.84452055e+00 1.51546370e+03\n",
      " 4.25342466e-01 5.75342466e-02 1.56506849e+00 3.82876712e-01\n",
      " 2.86643836e+00 1.04657534e+00 6.51780822e+00 6.13013699e-01\n",
      " 1.97850616e+03 1.76712329e+00 4.72980137e+02 9.42445205e+01\n",
      " 4.66602740e+01 2.19541096e+01 3.40958904e+00 1.50609589e+01\n",
      " 2.75890411e+00 4.34890411e+01 6.32191781e+00 2.00781575e+03], \n",
      " X_train_sigma = [4.22860820e+01 2.20164789e+01 9.97784611e+03 1.38252284e+00\n",
      " 1.11241818e+00 3.01925588e+01 2.06383353e+01 1.80507263e+02\n",
      " 4.55941866e+02 1.61264017e+02 4.41715605e+02 4.38555057e+02\n",
      " 3.86455322e+02 4.36378914e+02 4.86064268e+01 5.25300394e+02\n",
      " 5.18732867e-01 2.38670868e-01 5.50727099e-01 5.02713131e-01\n",
      " 8.15498620e-01 2.20262727e-01 1.62483655e+00 6.44445572e-01\n",
      " 2.39863645e+01 7.47059036e-01 2.13731608e+02 1.25295863e+02\n",
      " 6.62333334e+01 6.10982138e+01 2.93072887e+01 5.57383170e+01\n",
      " 4.01635452e+01 4.95953090e+02 2.70270015e+00 1.32764022e+00]\n",
      "\n",
      "Peak to Peak range by column in Raw        X:[1.70000e+02 2.92000e+02 2.13945e+05 9.00000e+00 8.00000e+00 1.38000e+02\n",
      " 6.00000e+01 1.60000e+03 5.64400e+03 1.47400e+03 2.33600e+03 6.11000e+03\n",
      " 4.35800e+03 2.06500e+03 5.72000e+02 5.30800e+03 3.00000e+00 2.00000e+00\n",
      " 3.00000e+00 2.00000e+00 8.00000e+00 3.00000e+00 1.20000e+01 3.00000e+00\n",
      " 1.10000e+02 4.00000e+00 1.41800e+03 8.57000e+02 5.47000e+02 5.52000e+02\n",
      " 5.08000e+02 4.80000e+02 7.38000e+02 1.55000e+04 1.10000e+01 4.00000e+00]\n",
      "Peak to Peak range by column in Normalized X:[ 4.02023531 13.26279288 21.44200239  6.50983822  7.19154017  4.57066262\n",
      "  2.90721123  8.86390926 12.37877111  9.14029073  5.28847062 13.93211616\n",
      " 11.27685336  4.73212599 11.76799113 10.1046945   5.78332354  8.37974077\n",
      "  5.44734407  3.9784121   9.80994915 13.62009832  7.38535822  4.65516427\n",
      "  4.58593881  5.35432918  6.63448899  6.83981084  8.25868142  9.034634\n",
      " 17.33357207  8.61167014 18.37487193 31.25295579  4.07000384  3.01286444]\n"
     ]
    }
   ],
   "source": [
    "X_train_norm, X_train_mu, X_train_sigma = zscore_normalize_features(X_train_clean)\n",
    "print(f\"X_train_mu = {X_train_mu}, \\n X_train_sigma = {X_train_sigma}\")\n",
    "print('')\n",
    "print(f\"Peak to Peak range by column in Raw        X:{np.ptp(X_train_clean,axis=0)}\")   \n",
    "print(f\"Peak to Peak range by column in Normalized X:{np.ptp(X_train_norm,axis=0)}\")"
   ]
  },
  {
   "cell_type": "markdown",
   "id": "e6c4b966",
   "metadata": {},
   "source": [
    "* Checking Data..."
   ]
  },
  {
   "cell_type": "code",
   "execution_count": 17,
   "id": "0512d7a5",
   "metadata": {},
   "outputs": [
    {
     "data": {
      "text/plain": [
       "0"
      ]
     },
     "execution_count": 17,
     "metadata": {},
     "output_type": "execute_result"
    }
   ],
   "source": [
    "np.sum(np.isnan(X_train_norm))"
   ]
  },
  {
   "cell_type": "markdown",
   "id": "85636aa9",
   "metadata": {},
   "source": [
    "Normalize examples are stored in a Numpy matriz `X_train_norm`."
   ]
  },
  {
   "cell_type": "code",
   "execution_count": 18,
   "id": "60618109",
   "metadata": {},
   "outputs": [
    {
     "name": "stdout",
     "output_type": "stream",
     "text": [
      "Type of X_train_norm: <class 'numpy.ndarray'>\n",
      "The shape of X_train_norm is:  (1460, 36)\n",
      "Dimension of X_train_norm: 2\n",
      "\n",
      "First element of X_train_norm are:\n",
      " [[ 0.07337496 -0.22937175 -0.20714171  0.65147924 -0.51719981  1.05099379\n",
      "   0.87866809  0.51141841  0.57542484 -0.28865283 -0.94459061 -0.45930254\n",
      "  -0.79343379  1.16185159 -0.12024172  0.37033344  1.10781015 -0.24106104\n",
      "   0.78974052  1.22758538  0.16377912 -0.21145358  0.91220977 -0.95122649\n",
      "   1.02115667  0.31172464  0.35100032 -0.75217584  0.21650316 -0.3593249\n",
      "  -0.11633929 -0.27020835 -0.06869175 -0.08768781 -1.5991111   0.13877749]]\n"
     ]
    }
   ],
   "source": [
    "print(\"Type of X_train_norm:\",type(X_train_norm))\n",
    "print ('The shape of X_train_norm is: ', X_train_norm.shape)\n",
    "print(\"Dimension of X_train_norm:\", X_train_norm.ndim)\n",
    "print('')\n",
    "print(\"First element of X_train_norm are:\\n\", X_train_norm[:1])"
   ]
  },
  {
   "cell_type": "markdown",
   "id": "f9feb6b9",
   "metadata": {},
   "source": [
    "For demonstration, $\\mathbf{w}$ and $b$ will be loaded with zeros and mean initial selected values, respectively"
   ]
  },
  {
   "cell_type": "code",
   "execution_count": 19,
   "id": "08b7984f",
   "metadata": {},
   "outputs": [
    {
     "name": "stdout",
     "output_type": "stream",
     "text": [
      "w_init Shape: (1460, 36), w_init Type: <class 'numpy.ndarray'>)\n",
      "First element of w_init are:\n",
      " [[0. 0. 0. ... 0. 0. 0.]\n",
      " [0. 0. 0. ... 0. 0. 0.]\n",
      " [0. 0. 0. ... 0. 0. 0.]\n",
      " ...\n",
      " [0. 0. 0. ... 0. 0. 0.]\n",
      " [0. 0. 0. ... 0. 0. 0.]\n",
      " [0. 0. 0. ... 0. 0. 0.]]\n",
      "Dimension of w_init: 2\n",
      "\n",
      "b_init Type: <class 'numpy.float64'>)\n"
     ]
    }
   ],
   "source": [
    "w_init = np.zeros((1460,36))\n",
    "print(f\"w_init Shape: {w_init.shape}, w_init Type: {type(w_init)})\")\n",
    "print(\"First element of w_init are:\\n\", w_init[:])\n",
    "print(\"Dimension of w_init:\", w_init.ndim)\n",
    "print('')\n",
    "b_init = np.mean(y_train,)\n",
    "print(f\"b_init Type: {type(b_init)})\")"
   ]
  },
  {
   "cell_type": "markdown",
   "id": "ec1429ea",
   "metadata": {},
   "source": [
    "### 6. Compute Cost With Multiple Variables"
   ]
  },
  {
   "cell_type": "code",
   "execution_count": 20,
   "id": "bbf42ba7",
   "metadata": {},
   "outputs": [],
   "source": [
    "def compute_cost(X, y, w, b): \n",
    "\n",
    "    m = X.shape[0]\n",
    "    cost = 0.0\n",
    "    for i in range(m):                                \n",
    "        f_wb_i = np.dot(X[i], w[i]) + b        #(n,)(n,) = scalar (see np.dot)\n",
    "        cost = cost + (f_wb_i - y[i])**2       #scalar\n",
    "    cost = cost / (2 * m)                      #scalar    \n",
    "    return cost"
   ]
  },
  {
   "cell_type": "markdown",
   "id": "476d8e78",
   "metadata": {},
   "source": [
    "* Compute and display cost using our pre-chosen parameters (`w_init`, `b_init`). "
   ]
  },
  {
   "cell_type": "code",
   "execution_count": 21,
   "id": "d439b5cd",
   "metadata": {},
   "outputs": [
    {
     "name": "stdout",
     "output_type": "stream",
     "text": [
      "Cost at optimal w : 3153394292.6746507\n"
     ]
    }
   ],
   "source": [
    "cost = compute_cost(X_train_norm, y_train, w_init, b_init)\n",
    "print(f'Cost at optimal w : {cost}')"
   ]
  },
  {
   "cell_type": "markdown",
   "id": "8724ad0d",
   "metadata": {},
   "source": [
    "### 7. Compute Gradient with Multiple Variables"
   ]
  },
  {
   "cell_type": "code",
   "execution_count": 22,
   "id": "7fa26f4a",
   "metadata": {},
   "outputs": [],
   "source": [
    "def compute_gradient(X, y, w, b): \n",
    "\n",
    "    m,n = X.shape           #(number of examples, number of features)\n",
    "    dj_dw = np.zeros((n,))\n",
    "    dj_db = 0.\n",
    "\n",
    "    for i in range(m):                             \n",
    "        err = (np.dot(X[i], w[i]) + b) - y[i]   \n",
    "        for j in range(n):                         \n",
    "            dj_dw[j] = dj_dw[j] + err * X[i, j]    \n",
    "        dj_db = dj_db + err                        \n",
    "    dj_dw = dj_dw / m                                \n",
    "    dj_db = dj_db / m                                \n",
    "        \n",
    "    return dj_db, dj_dw"
   ]
  },
  {
   "cell_type": "markdown",
   "id": "1c765a9f",
   "metadata": {},
   "source": [
    "* Compute and display gradient "
   ]
  },
  {
   "cell_type": "code",
   "execution_count": 23,
   "id": "3a9f4c6a",
   "metadata": {},
   "outputs": [
    {
     "name": "stdout",
     "output_type": "stream",
     "text": [
      "dj_db at initial w,b: -7.15635283148452e-12\n",
      "dj_dw at initial w,b: \n",
      " [  6693.44919244 -26596.24887799 -20953.1969599  -62816.03468687\n",
      "   6182.94855093 -41526.04431707 -40271.57131886 -37741.4278879\n",
      " -30687.64170328    903.59683608 -17032.92077048 -48727.67859769\n",
      " -48113.92808712 -25359.987161     2033.51828808 -56275.61972722\n",
      " -18036.97843795   1337.6834301  -44525.27636861 -22562.49398443\n",
      " -13358.69674787  10793.1235249  -42385.7801869  -37081.28986064\n",
      " -37339.27972705 -50858.28332679 -49509.98969265 -25763.38839214\n",
      " -25083.81447045  10211.0560588   -3540.62479599  -8850.56197702\n",
      "  -7338.25485421   1682.77665208  -3687.43030738   2296.89554327]\n"
     ]
    }
   ],
   "source": [
    "tmp_dj_db, tmp_dj_dw = compute_gradient(X_train_norm, y_train, w_init, b_init)\n",
    "print(f'dj_db at initial w,b: {tmp_dj_db}')\n",
    "print(f'dj_dw at initial w,b: \\n {tmp_dj_dw}')"
   ]
  },
  {
   "cell_type": "markdown",
   "id": "e39ad75f",
   "metadata": {},
   "source": [
    "### 8. Gradient Descent with Multiple Variables"
   ]
  },
  {
   "cell_type": "code",
   "execution_count": 24,
   "id": "e3c85b50",
   "metadata": {},
   "outputs": [],
   "source": [
    "def gradient_descent(X, y, w_in, b_in, cost_function, gradient_function, alpha, num_iters): \n",
    "    \"\"\"\n",
    "    \n",
    "    Performs batch gradient descent to learn theta. Updates theta by taking \n",
    "    num_iters gradient steps with learning rate alpha\n",
    "    \n",
    "    \"\"\"\n",
    "    \n",
    "    # An array to store cost J and w's at each iteration primarily for graphing later\n",
    "    J_history = []\n",
    "    w = copy.deepcopy(w_in)  #avoid modifying global w within function\n",
    "    b = b_in\n",
    "    \n",
    "    for i in range(num_iters):\n",
    "\n",
    "        # Calculate the gradient and update the parameters\n",
    "        dj_db,dj_dw = gradient_function(X, y, w, b)   ##None\n",
    "\n",
    "        # Update Parameters using w, b, alpha and gradient\n",
    "        w = w - alpha * dj_dw               ##None\n",
    "        b = b - alpha * dj_db               ##None\n",
    "      \n",
    "        # Save cost J at each iteration\n",
    "        if i<100000:      # prevent resource exhaustion \n",
    "            J_history.append( cost_function(X, y, w, b))\n",
    "\n",
    "        # Print cost every at intervals 10 times or as many iterations if < 10\n",
    "        if i% math.ceil(num_iters / 10) == 0:\n",
    "            print(f\"Iteration {i:4d}: Cost {J_history[-1]:8.2f}   \")\n",
    "        \n",
    "    return w, b, J_history #return final w,b and J history for graphing"
   ]
  },
  {
   "cell_type": "markdown",
   "id": "804fdc37",
   "metadata": {},
   "source": [
    "* Initialize parameters"
   ]
  },
  {
   "cell_type": "code",
   "execution_count": 25,
   "id": "fa1f56f8",
   "metadata": {},
   "outputs": [
    {
     "name": "stdout",
     "output_type": "stream",
     "text": [
      "Iteration    0: Cost 14212888376.00   \n",
      "Iteration  100: Cost 590124176.10   \n",
      "Iteration  200: Cost 589364183.33   \n",
      "Iteration  300: Cost 589300731.21   \n",
      "Iteration  400: Cost 589292933.55   \n",
      "Iteration  500: Cost 589291884.14   \n",
      "Iteration  600: Cost 589291736.03   \n",
      "Iteration  700: Cost 589291714.55   \n",
      "Iteration  800: Cost 589291711.40   \n",
      "Iteration  900: Cost 589291710.93   \n",
      "b,w found by gradient descent: 180921.20,[[-7678.90001192 -1237.99188431  4290.61110917 ...  -362.14238496\n",
      "   -135.36885154 -1036.17335459]\n",
      " [-7678.90001192 -1237.99188431  4290.61110917 ...  -362.14238496\n",
      "   -135.36885154 -1036.17335459]\n",
      " [-7678.90001192 -1237.99188431  4290.61110917 ...  -362.14238496\n",
      "   -135.36885154 -1036.17335459]\n",
      " ...\n",
      " [-7678.90001192 -1237.99188431  4290.61110917 ...  -362.14238496\n",
      "   -135.36885154 -1036.17335459]\n",
      " [-7678.90001192 -1237.99188431  4290.61110917 ...  -362.14238496\n",
      "   -135.36885154 -1036.17335459]\n",
      " [-7678.90001192 -1237.99188431  4290.61110917 ...  -362.14238496\n",
      "   -135.36885154 -1036.17335459]] \n"
     ]
    }
   ],
   "source": [
    "initial_w = np.zeros_like(w_init)\n",
    "initial_b = 0.\n",
    "# some gradient descent settings\n",
    "iterations = 1000\n",
    "alpha = 1.0e-1    # best alpha among 1.0e-2, 3.0e-2, 1.0e-1, 3.0e-1, 1.\n",
    "# run gradient descent \n",
    "w_final, b_final, J_hist = gradient_descent(X_train_norm, y_train, initial_w, initial_b,\n",
    "                                                    compute_cost, compute_gradient, \n",
    "                                                    alpha, iterations)\n",
    "print(f\"b,w found by gradient descent: {b_final:0.2f},{w_final} \")\n",
    "m,_ = X_train_norm.shape\n",
    "predicted = np.zeros(m)\n",
    "\n",
    "for i in range(m):\n",
    "    predicted[i] = np.dot(X_train_norm[i], w_final[i]) + b_final\n",
    "    #print(f\"Prediction: {predicted[i]:0.2f}, target value: {y_train[i]}\")"
   ]
  },
  {
   "cell_type": "markdown",
   "id": "d23fb565",
   "metadata": {},
   "source": [
    "* Outlier"
   ]
  },
  {
   "cell_type": "code",
   "execution_count": 26,
   "id": "51b0cc12",
   "metadata": {},
   "outputs": [
    {
     "data": {
      "text/plain": [
       "1"
      ]
     },
     "execution_count": 26,
     "metadata": {},
     "output_type": "execute_result"
    }
   ],
   "source": [
    "np.sum(predicted < 0)"
   ]
  },
  {
   "cell_type": "code",
   "execution_count": 27,
   "id": "fd8439f6",
   "metadata": {},
   "outputs": [
    {
     "name": "stdout",
     "output_type": "stream",
     "text": [
      "Shape of predicted: (1460,)\n",
      "Dimension of predicted: 1\n"
     ]
    }
   ],
   "source": [
    "print(\"Shape of predicted:\", predicted.shape)\n",
    "print(\"Dimension of predicted:\", predicted.ndim)"
   ]
  },
  {
   "cell_type": "markdown",
   "id": "498951d3",
   "metadata": {},
   "source": [
    "* Metrics"
   ]
  },
  {
   "cell_type": "code",
   "execution_count": 28,
   "id": "1c43b661",
   "metadata": {},
   "outputs": [
    {
     "name": "stdout",
     "output_type": "stream",
     "text": [
      "R2 Score                           : 0.7701762026827385\n",
      "Mean Absolute Error                : 21111.969318196472\n",
      "Mean Square Error                  : 1178583421.715809\n",
      "Root Mean Square Error             : 34330.502788567035\n"
     ]
    }
   ],
   "source": [
    "from sklearn.metrics import mean_absolute_error, mean_squared_error, r2_score, mean_squared_log_error\n",
    "\n",
    "print(\"R2 Score                           : \" + str(r2_score(predicted, y_train)))\n",
    "print(\"Mean Absolute Error                : \" + str(mean_absolute_error(predicted, y_train)))\n",
    "print(\"Mean Square Error                  : \" + str(mean_squared_error(predicted, y_train)))\n",
    "#print(\"Mean Squared Logarithmic Error     : \" + str(mean_squared_log_error(predicted, y_train)))\n",
    "print(\"Root Mean Square Error             : \" + str(np.sqrt(mean_squared_error(predicted, y_train))))\n",
    "#print(\"Root Mean Squared Logarithmic Error: \" + str(np.sqrt(mean_squared_log_error(predicted, y_train))))\n",
    "\n",
    "# ValueError: Mean Squared Logarithmic Error cannot be used when targets contain negative values."
   ]
  },
  {
   "cell_type": "markdown",
   "id": "d7c144e8",
   "metadata": {},
   "source": [
    "* Visualizing predictions and targets values"
   ]
  },
  {
   "cell_type": "code",
   "execution_count": 29,
   "id": "c291c936",
   "metadata": {},
   "outputs": [
    {
     "data": {
      "image/png": "[encoded data removed]",
      "text/plain": [
       "<Figure size 720x576 with 1 Axes>"
      ]
     },
     "metadata": {
      "needs_background": "light"
     },
     "output_type": "display_data"
    }
   ],
   "source": [
    "plt.figure(figsize=(10,8))\n",
    "\n",
    "ax1 = plt.scatter(df_train['LotArea'], y_train[:,], marker='o', c='b')\n",
    "ax2 = plt.scatter(df_train['LotArea'], predicted[:,], marker='D', c='g', alpha=0.3)\n",
    "\n",
    "\n",
    "plt.title(\"Housing Prices Competition for Kaggle\")\n",
    "plt.ylabel('SalePrice')\n",
    "plt.xlabel('LotArea')\n",
    "plt.legend([ax1, ax2], ['Target', 'Predicted'], loc='upper right')\n",
    "\n",
    "plt.show()"
   ]
  },
  {
   "cell_type": "markdown",
   "id": "cb3389b3",
   "metadata": {},
   "source": [
    "### 9. Loading the `test` dataset"
   ]
  },
  {
   "cell_type": "code",
   "execution_count": 30,
   "id": "46c459f7",
   "metadata": {},
   "outputs": [
    {
     "name": "stdout",
     "output_type": "stream",
     "text": [
      "The shape of df_test is:  (1459, 79)\n"
     ]
    },
    {
     "data": {
      "text/html": [
       "<div>\n",
       "<style scoped>\n",
       "    .dataframe tbody tr th:only-of-type {\n",
       "        vertical-align: middle;\n",
       "    }\n",
       "\n",
       "    .dataframe tbody tr th {\n",
       "        vertical-align: top;\n",
       "    }\n",
       "\n",
       "    .dataframe thead th {\n",
       "        text-align: right;\n",
       "    }\n",
       "</style>\n",
       "<table border=\"1\" class=\"dataframe\">\n",
       "  <thead>\n",
       "    <tr style=\"text-align: right;\">\n",
       "      <th></th>\n",
       "      <th>MSSubClass</th>\n",
       "      <th>MSZoning</th>\n",
       "      <th>LotFrontage</th>\n",
       "      <th>LotArea</th>\n",
       "      <th>Street</th>\n",
       "      <th>Alley</th>\n",
       "      <th>LotShape</th>\n",
       "      <th>LandContour</th>\n",
       "      <th>Utilities</th>\n",
       "      <th>LotConfig</th>\n",
       "      <th>...</th>\n",
       "      <th>ScreenPorch</th>\n",
       "      <th>PoolArea</th>\n",
       "      <th>PoolQC</th>\n",
       "      <th>Fence</th>\n",
       "      <th>MiscFeature</th>\n",
       "      <th>MiscVal</th>\n",
       "      <th>MoSold</th>\n",
       "      <th>YrSold</th>\n",
       "      <th>SaleType</th>\n",
       "      <th>SaleCondition</th>\n",
       "    </tr>\n",
       "    <tr>\n",
       "      <th>Id</th>\n",
       "      <th></th>\n",
       "      <th></th>\n",
       "      <th></th>\n",
       "      <th></th>\n",
       "      <th></th>\n",
       "      <th></th>\n",
       "      <th></th>\n",
       "      <th></th>\n",
       "      <th></th>\n",
       "      <th></th>\n",
       "      <th></th>\n",
       "      <th></th>\n",
       "      <th></th>\n",
       "      <th></th>\n",
       "      <th></th>\n",
       "      <th></th>\n",
       "      <th></th>\n",
       "      <th></th>\n",
       "      <th></th>\n",
       "      <th></th>\n",
       "      <th></th>\n",
       "    </tr>\n",
       "  </thead>\n",
       "  <tbody>\n",
       "    <tr>\n",
       "      <th>1461</th>\n",
       "      <td>20</td>\n",
       "      <td>RH</td>\n",
       "      <td>80.0</td>\n",
       "      <td>11622</td>\n",
       "      <td>Pave</td>\n",
       "      <td>NaN</td>\n",
       "      <td>Reg</td>\n",
       "      <td>Lvl</td>\n",
       "      <td>AllPub</td>\n",
       "      <td>Inside</td>\n",
       "      <td>...</td>\n",
       "      <td>120</td>\n",
       "      <td>0</td>\n",
       "      <td>NaN</td>\n",
       "      <td>MnPrv</td>\n",
       "      <td>NaN</td>\n",
       "      <td>0</td>\n",
       "      <td>6</td>\n",
       "      <td>2010</td>\n",
       "      <td>WD</td>\n",
       "      <td>Normal</td>\n",
       "    </tr>\n",
       "    <tr>\n",
       "      <th>1462</th>\n",
       "      <td>20</td>\n",
       "      <td>RL</td>\n",
       "      <td>81.0</td>\n",
       "      <td>14267</td>\n",
       "      <td>Pave</td>\n",
       "      <td>NaN</td>\n",
       "      <td>IR1</td>\n",
       "      <td>Lvl</td>\n",
       "      <td>AllPub</td>\n",
       "      <td>Corner</td>\n",
       "      <td>...</td>\n",
       "      <td>0</td>\n",
       "      <td>0</td>\n",
       "      <td>NaN</td>\n",
       "      <td>NaN</td>\n",
       "      <td>Gar2</td>\n",
       "      <td>12500</td>\n",
       "      <td>6</td>\n",
       "      <td>2010</td>\n",
       "      <td>WD</td>\n",
       "      <td>Normal</td>\n",
       "    </tr>\n",
       "  </tbody>\n",
       "</table>\n",
       "<p>2 rows × 79 columns</p>\n",
       "</div>"
      ],
      "text/plain": [
       "      MSSubClass MSZoning  LotFrontage  LotArea Street Alley LotShape  \\\n",
       "Id                                                                      \n",
       "1461          20       RH         80.0    11622   Pave   NaN      Reg   \n",
       "1462          20       RL         81.0    14267   Pave   NaN      IR1   \n",
       "\n",
       "     LandContour Utilities LotConfig  ... ScreenPorch PoolArea PoolQC  Fence  \\\n",
       "Id                                    ...                                      \n",
       "1461         Lvl    AllPub    Inside  ...         120        0    NaN  MnPrv   \n",
       "1462         Lvl    AllPub    Corner  ...           0        0    NaN    NaN   \n",
       "\n",
       "     MiscFeature MiscVal  MoSold  YrSold  SaleType  SaleCondition  \n",
       "Id                                                                 \n",
       "1461         NaN       0       6    2010        WD         Normal  \n",
       "1462        Gar2   12500       6    2010        WD         Normal  \n",
       "\n",
       "[2 rows x 79 columns]"
      ]
     },
     "execution_count": 30,
     "metadata": {},
     "output_type": "execute_result"
    }
   ],
   "source": [
    "df_test = pd.read_csv('test.csv').set_index('Id')\n",
    "print ('The shape of df_test is: ', df_test.shape)\n",
    "df_test.head(2)"
   ]
  },
  {
   "cell_type": "markdown",
   "id": "604df294",
   "metadata": {},
   "source": [
    "- Choosing numeric features on `test` set"
   ]
  },
  {
   "cell_type": "code",
   "execution_count": 31,
   "id": "27442f98",
   "metadata": {},
   "outputs": [
    {
     "data": {
      "text/html": [
       "<div>\n",
       "<style scoped>\n",
       "    .dataframe tbody tr th:only-of-type {\n",
       "        vertical-align: middle;\n",
       "    }\n",
       "\n",
       "    .dataframe tbody tr th {\n",
       "        vertical-align: top;\n",
       "    }\n",
       "\n",
       "    .dataframe thead th {\n",
       "        text-align: right;\n",
       "    }\n",
       "</style>\n",
       "<table border=\"1\" class=\"dataframe\">\n",
       "  <thead>\n",
       "    <tr style=\"text-align: right;\">\n",
       "      <th></th>\n",
       "      <th>MSSubClass</th>\n",
       "      <th>LotFrontage</th>\n",
       "      <th>LotArea</th>\n",
       "      <th>OverallQual</th>\n",
       "      <th>OverallCond</th>\n",
       "      <th>YearBuilt</th>\n",
       "      <th>YearRemodAdd</th>\n",
       "      <th>MasVnrArea</th>\n",
       "      <th>BsmtFinSF1</th>\n",
       "      <th>BsmtFinSF2</th>\n",
       "      <th>...</th>\n",
       "      <th>GarageArea</th>\n",
       "      <th>WoodDeckSF</th>\n",
       "      <th>OpenPorchSF</th>\n",
       "      <th>EnclosedPorch</th>\n",
       "      <th>3SsnPorch</th>\n",
       "      <th>ScreenPorch</th>\n",
       "      <th>PoolArea</th>\n",
       "      <th>MiscVal</th>\n",
       "      <th>MoSold</th>\n",
       "      <th>YrSold</th>\n",
       "    </tr>\n",
       "    <tr>\n",
       "      <th>Id</th>\n",
       "      <th></th>\n",
       "      <th></th>\n",
       "      <th></th>\n",
       "      <th></th>\n",
       "      <th></th>\n",
       "      <th></th>\n",
       "      <th></th>\n",
       "      <th></th>\n",
       "      <th></th>\n",
       "      <th></th>\n",
       "      <th></th>\n",
       "      <th></th>\n",
       "      <th></th>\n",
       "      <th></th>\n",
       "      <th></th>\n",
       "      <th></th>\n",
       "      <th></th>\n",
       "      <th></th>\n",
       "      <th></th>\n",
       "      <th></th>\n",
       "      <th></th>\n",
       "    </tr>\n",
       "  </thead>\n",
       "  <tbody>\n",
       "    <tr>\n",
       "      <th>1461</th>\n",
       "      <td>20</td>\n",
       "      <td>80.0</td>\n",
       "      <td>11622</td>\n",
       "      <td>5</td>\n",
       "      <td>6</td>\n",
       "      <td>1961</td>\n",
       "      <td>1961</td>\n",
       "      <td>0.0</td>\n",
       "      <td>468.0</td>\n",
       "      <td>144.0</td>\n",
       "      <td>...</td>\n",
       "      <td>730.0</td>\n",
       "      <td>140</td>\n",
       "      <td>0</td>\n",
       "      <td>0</td>\n",
       "      <td>0</td>\n",
       "      <td>120</td>\n",
       "      <td>0</td>\n",
       "      <td>0</td>\n",
       "      <td>6</td>\n",
       "      <td>2010</td>\n",
       "    </tr>\n",
       "    <tr>\n",
       "      <th>1462</th>\n",
       "      <td>20</td>\n",
       "      <td>81.0</td>\n",
       "      <td>14267</td>\n",
       "      <td>6</td>\n",
       "      <td>6</td>\n",
       "      <td>1958</td>\n",
       "      <td>1958</td>\n",
       "      <td>108.0</td>\n",
       "      <td>923.0</td>\n",
       "      <td>0.0</td>\n",
       "      <td>...</td>\n",
       "      <td>312.0</td>\n",
       "      <td>393</td>\n",
       "      <td>36</td>\n",
       "      <td>0</td>\n",
       "      <td>0</td>\n",
       "      <td>0</td>\n",
       "      <td>0</td>\n",
       "      <td>12500</td>\n",
       "      <td>6</td>\n",
       "      <td>2010</td>\n",
       "    </tr>\n",
       "  </tbody>\n",
       "</table>\n",
       "<p>2 rows × 36 columns</p>\n",
       "</div>"
      ],
      "text/plain": [
       "      MSSubClass  LotFrontage  LotArea  OverallQual  OverallCond  YearBuilt  \\\n",
       "Id                                                                            \n",
       "1461          20         80.0    11622            5            6       1961   \n",
       "1462          20         81.0    14267            6            6       1958   \n",
       "\n",
       "      YearRemodAdd  MasVnrArea  BsmtFinSF1  BsmtFinSF2  ...  GarageArea  \\\n",
       "Id                                                      ...               \n",
       "1461          1961         0.0       468.0       144.0  ...       730.0   \n",
       "1462          1958       108.0       923.0         0.0  ...       312.0   \n",
       "\n",
       "      WoodDeckSF  OpenPorchSF  EnclosedPorch  3SsnPorch  ScreenPorch  \\\n",
       "Id                                                                     \n",
       "1461         140            0              0          0          120   \n",
       "1462         393           36              0          0            0   \n",
       "\n",
       "      PoolArea  MiscVal  MoSold  YrSold  \n",
       "Id                                       \n",
       "1461         0        0       6    2010  \n",
       "1462         0    12500       6    2010  \n",
       "\n",
       "[2 rows x 36 columns]"
      ]
     },
     "execution_count": 31,
     "metadata": {},
     "output_type": "execute_result"
    }
   ],
   "source": [
    "df_TEST_numeric_colmuns = df_test.select_dtypes(include=np.number)\n",
    "df_TEST_numeric_colmuns.head(2)"
   ]
  },
  {
   "cell_type": "markdown",
   "id": "877fb3f1",
   "metadata": {},
   "source": [
    "### 10. Fixing Missing features on `test` set"
   ]
  },
  {
   "cell_type": "code",
   "execution_count": 32,
   "id": "5d0d7b91",
   "metadata": {},
   "outputs": [
    {
     "data": {
      "text/plain": [
       "LotFrontage     227\n",
       "GarageYrBlt      78\n",
       "MasVnrArea       15\n",
       "BsmtHalfBath      2\n",
       "BsmtFullBath      2\n",
       "dtype: int64"
      ]
     },
     "execution_count": 32,
     "metadata": {},
     "output_type": "execute_result"
    }
   ],
   "source": [
    "df_TEST_numeric_colmuns.isna().sum().sort_values(ascending=False).head()"
   ]
  },
  {
   "cell_type": "markdown",
   "id": "22df88d2",
   "metadata": {},
   "source": [
    "`isna()` = `isnull()` There is absolutely no difference"
   ]
  },
  {
   "cell_type": "code",
   "execution_count": 33,
   "id": "3daeaa60",
   "metadata": {},
   "outputs": [
    {
     "data": {
      "text/plain": [
       "330"
      ]
     },
     "execution_count": 33,
     "metadata": {},
     "output_type": "execute_result"
    }
   ],
   "source": [
    "df_TEST_numeric_colmuns.isna().sum().sum()"
   ]
  },
  {
   "cell_type": "code",
   "execution_count": 34,
   "id": "af340aa9",
   "metadata": {},
   "outputs": [
    {
     "data": {
      "text/plain": [
       "330"
      ]
     },
     "execution_count": 34,
     "metadata": {},
     "output_type": "execute_result"
    }
   ],
   "source": [
    "df_TEST_numeric_colmuns.isnull().sum().sum()"
   ]
  },
  {
   "cell_type": "markdown",
   "id": "c4f7688f",
   "metadata": {},
   "source": [
    "- Checking Data as `numpy.ndarray`"
   ]
  },
  {
   "cell_type": "code",
   "execution_count": 35,
   "id": "c3843a4f",
   "metadata": {},
   "outputs": [
    {
     "name": "stdout",
     "output_type": "stream",
     "text": [
      "330\n"
     ]
    }
   ],
   "source": [
    "X_test_raw = np.array(df_TEST_numeric_colmuns)\n",
    "print(np.sum(np.isnan(X_test_raw)))"
   ]
  },
  {
   "cell_type": "markdown",
   "id": "c11de11c",
   "metadata": {},
   "source": [
    "* Replace missing values using a descriptive statistic `mean`"
   ]
  },
  {
   "cell_type": "code",
   "execution_count": 36,
   "id": "f14d669e",
   "metadata": {},
   "outputs": [],
   "source": [
    "# imp_mean = SimpleImputer(missing_values=np.nan, strategy='mean') --> Above implemented\n",
    "\n",
    "X_test_clean = imp_mean.fit_transform(df_TEST_numeric_colmuns)"
   ]
  },
  {
   "cell_type": "markdown",
   "id": "b4cf8c5e",
   "metadata": {},
   "source": [
    "* Checking Data as `numpy.ndarray` after impute missing features"
   ]
  },
  {
   "cell_type": "code",
   "execution_count": 37,
   "id": "78d23958",
   "metadata": {},
   "outputs": [
    {
     "name": "stdout",
     "output_type": "stream",
     "text": [
      "0\n"
     ]
    }
   ],
   "source": [
    "print(np.sum(np.isnan(X_test_clean)))"
   ]
  },
  {
   "cell_type": "code",
   "execution_count": 38,
   "id": "998cdea9",
   "metadata": {},
   "outputs": [
    {
     "name": "stdout",
     "output_type": "stream",
     "text": [
      "X_test_clean Shape: (1459, 36)\n",
      "X_test_clean Type: <class 'numpy.ndarray'>)\n",
      "Dimension of X_test_clean: 2\n"
     ]
    }
   ],
   "source": [
    "print(f\"X_test_clean Shape: {X_test_clean.shape}\")\n",
    "print(f\"X_test_clean Type: {type(X_test_clean)})\")\n",
    "print(\"Dimension of X_test_clean:\", X_test_clean.ndim)"
   ]
  },
  {
   "cell_type": "markdown",
   "id": "c7a3b52e",
   "metadata": {},
   "source": [
    "### 11. z-score normalization on `test` set\n",
    "\n",
    "**Implementation Note:** When normalizing the features, it is important to store the values used for normalization - the mean value and the standard deviation used for the computations. After learning the parameters from the model, we often want to predict the prices of houses we have not seen before. Given a new `X_test` values, we must first normalize `X_test` using the mean and standard deviation that we had previously computed from the training set.\n",
    "\n",
    "> This note is borrowed from the lecture notes of the Machine Learning Specialization offered jointly by DeepLearning.AI and Stanford University on Coursera"
   ]
  },
  {
   "cell_type": "code",
   "execution_count": 39,
   "id": "2c912458",
   "metadata": {},
   "outputs": [
    {
     "name": "stdout",
     "output_type": "stream",
     "text": [
      "X_test_mu = [5.73783413e+01 6.85803571e+01 9.81916107e+03 6.07882111e+00\n",
      " 5.55380398e+00 1.97135778e+03 1.98366278e+03 1.00709141e+02\n",
      " 4.39203704e+02 5.26193416e+01 5.54294925e+02 1.04611797e+03\n",
      " 1.15653461e+03 3.25967786e+02 3.54352296e+00 1.48604592e+03\n",
      " 4.34454358e-01 6.52024708e-02 1.57093900e+00 3.77655929e-01\n",
      " 2.85400960e+00 1.04249486e+00 6.38519534e+00 5.81220014e-01\n",
      " 1.97772122e+03 1.76611797e+00 4.72768861e+02 9.31747772e+01\n",
      " 4.83139136e+01 2.42433173e+01 1.79437971e+00 1.70644277e+01\n",
      " 1.74434544e+00 5.81679232e+01 6.10418095e+00 2.00776971e+03], \n",
      " X_test_sigma = [4.27322277e+01 2.05541803e+01 4.95381878e+03 1.43631916e+00\n",
      " 1.11335786e+00 3.03796544e+01 2.11232242e+01 1.76649255e+02\n",
      " 4.54955894e+02 1.76632737e+02 4.36960684e+02 4.42594957e+02\n",
      " 3.98029345e+02 4.20466058e+02 4.40281546e+01 4.85399666e+02\n",
      " 5.30101695e-01 2.52208566e-01 5.54999592e-01 5.02844263e-01\n",
      " 8.29503945e-01 2.08400217e-01 1.50837739e+00 6.47198544e-01\n",
      " 2.57056367e+01 7.75413055e-01 2.16899795e+02 1.27701096e+02\n",
      " 6.88597537e+01 6.72047225e+01 2.02009153e+01 5.65903594e+01\n",
      " 3.04811950e+01 6.30590763e+02 2.72149876e+00 1.30129397e+00]\n",
      "\n",
      "Peak to Peak range by column in Raw        X:[1.700e+02 1.790e+02 5.513e+04 9.000e+00 8.000e+00 1.310e+02 6.000e+01\n",
      " 1.290e+03 4.010e+03 1.526e+03 2.140e+03 5.095e+03 4.688e+03 1.862e+03\n",
      " 1.064e+03 4.688e+03 3.000e+00 2.000e+00 4.000e+00 2.000e+00 6.000e+00\n",
      " 2.000e+00 1.200e+01 4.000e+00 3.120e+02 5.000e+00 1.488e+03 1.424e+03\n",
      " 7.420e+02 1.012e+03 3.600e+02 5.760e+02 8.000e+02 1.700e+04 1.100e+01\n",
      " 4.000e+00]\n",
      "Peak to Peak range by column in Normalized X:[ 3.97826205  8.70869075 11.12878821  6.26601681  7.18547045  4.31209646\n",
      "  2.84047545  7.30260649  8.81404122  8.63939507  4.89746578 11.51165399\n",
      " 11.77802608  4.42841928 24.16635466  9.65802065  5.65929146  7.92994479\n",
      "  7.20721251  3.9773746   7.23323865  9.59691901  7.95556874  6.18048362\n",
      " 12.13741575  6.44817619  6.86031078 11.15103979 10.77552504 15.05846558\n",
      " 17.82097465 10.17841212 26.24569016 26.95884717  4.0418905   3.07386348]\n"
     ]
    }
   ],
   "source": [
    "X_test_norm, X_test_mu, X_test_sigma = zscore_normalize_features(X_test_clean)\n",
    "print(f\"X_test_mu = {X_test_mu}, \\n X_test_sigma = {X_test_sigma}\")\n",
    "print('')\n",
    "print(f\"Peak to Peak range by column in Raw        X:{np.ptp(X_test_clean,axis=0)}\")   \n",
    "print(f\"Peak to Peak range by column in Normalized X:{np.ptp(X_test_norm,axis=0)}\")"
   ]
  },
  {
   "cell_type": "code",
   "execution_count": 40,
   "id": "43ec2419",
   "metadata": {},
   "outputs": [
    {
     "data": {
      "text/plain": [
       "0"
      ]
     },
     "execution_count": 40,
     "metadata": {},
     "output_type": "execute_result"
    }
   ],
   "source": [
    "np.sum(np.isnan(X_test_norm))"
   ]
  },
  {
   "cell_type": "code",
   "execution_count": 41,
   "id": "86b3e985",
   "metadata": {},
   "outputs": [
    {
     "name": "stdout",
     "output_type": "stream",
     "text": [
      "Type of X_test_norm: <class 'numpy.ndarray'>\n",
      "The shape of X_test_norm is:  (1459, 36)\n",
      "Dimension of X_test_norm: 2\n"
     ]
    }
   ],
   "source": [
    "print(\"Type of X_test_norm:\",type(X_test_norm))\n",
    "print ('The shape of X_test_norm is: ', X_test_norm.shape)\n",
    "print(\"Dimension of X_test_norm:\", X_test_norm.ndim)"
   ]
  },
  {
   "cell_type": "markdown",
   "id": "d321b91f",
   "metadata": {},
   "source": [
    "### 12. Predictions on `test` set"
   ]
  },
  {
   "cell_type": "code",
   "execution_count": 42,
   "id": "2508c2da",
   "metadata": {},
   "outputs": [
    {
     "name": "stdout",
     "output_type": "stream",
     "text": [
      "b,w found by gradient descent: 180921.20,[[-7678.90001192 -1237.99188431  4290.61110917 ...  -362.14238496\n",
      "   -135.36885154 -1036.17335459]\n",
      " [-7678.90001192 -1237.99188431  4290.61110917 ...  -362.14238496\n",
      "   -135.36885154 -1036.17335459]\n",
      " [-7678.90001192 -1237.99188431  4290.61110917 ...  -362.14238496\n",
      "   -135.36885154 -1036.17335459]\n",
      " ...\n",
      " [-7678.90001192 -1237.99188431  4290.61110917 ...  -362.14238496\n",
      "   -135.36885154 -1036.17335459]\n",
      " [-7678.90001192 -1237.99188431  4290.61110917 ...  -362.14238496\n",
      "   -135.36885154 -1036.17335459]\n",
      " [-7678.90001192 -1237.99188431  4290.61110917 ...  -362.14238496\n",
      "   -135.36885154 -1036.17335459]] \n"
     ]
    }
   ],
   "source": [
    "print(f\"b,w found by gradient descent: {b_final:0.2f},{w_final} \")\n",
    "m_test,_ = X_test_norm.shape\n",
    "predicted_Xtest = np.zeros(m_test)\n",
    "\n",
    "for i in range(m_test):\n",
    "    predicted_Xtest[i] = np.dot(X_test_norm[i], w_final[i]) + b_final\n",
    "    #print(f\"Prediction: {predicted_Xtest[i]:0.2f}\")"
   ]
  },
  {
   "cell_type": "markdown",
   "id": "8a5f1ac3",
   "metadata": {},
   "source": [
    "- Outlier"
   ]
  },
  {
   "cell_type": "code",
   "execution_count": 43,
   "id": "cc86917e",
   "metadata": {},
   "outputs": [
    {
     "data": {
      "text/plain": [
       "0"
      ]
     },
     "execution_count": 43,
     "metadata": {},
     "output_type": "execute_result"
    }
   ],
   "source": [
    "np.sum(predicted_Xtest < 0)"
   ]
  },
  {
   "cell_type": "code",
   "execution_count": 44,
   "id": "85f45aee",
   "metadata": {},
   "outputs": [
    {
     "name": "stdout",
     "output_type": "stream",
     "text": [
      "Shape of predicted test set: (1459,)\n",
      "Dimension of predicted test set: 1\n"
     ]
    }
   ],
   "source": [
    "print(\"Shape of predicted test set:\", predicted_Xtest.shape)\n",
    "print(\"Dimension of predicted test set:\", predicted_Xtest.ndim)"
   ]
  },
  {
   "cell_type": "markdown",
   "id": "2ab7551c",
   "metadata": {},
   "source": [
    "- Metrics"
   ]
  },
  {
   "cell_type": "code",
   "execution_count": 45,
   "id": "a24a8ff2",
   "metadata": {},
   "outputs": [
    {
     "name": "stdout",
     "output_type": "stream",
     "text": [
      "R2 Score                           : -1.1770073703780675\n",
      "Mean Absolute Error                : 80067.44301213173\n",
      "Mean Square Error                  : 11356853386.63813\n",
      "Mean Squared Logarithmic Error     : 0.353955314314531\n",
      "Root Mean Square Error             : 106568.5384465703\n",
      "Root Mean Squared Logarithmic Error: 0.5949414377184791\n"
     ]
    }
   ],
   "source": [
    "print(\"R2 Score                           : \" + str(r2_score(predicted_Xtest, y_train[:1459,])))\n",
    "print(\"Mean Absolute Error                : \" + str(mean_absolute_error(predicted_Xtest, y_train[:1459,])))\n",
    "print(\"Mean Square Error                  : \" + str(mean_squared_error(predicted_Xtest, y_train[:1459,])))\n",
    "print(\"Mean Squared Logarithmic Error     : \" + str(mean_squared_log_error(predicted_Xtest, y_train[:1459,])))\n",
    "print(\"Root Mean Square Error             : \" + str(np.sqrt(mean_squared_error(predicted_Xtest, y_train[:1459,]))))\n",
    "print(\"Root Mean Squared Logarithmic Error: \" + str(np.sqrt(mean_squared_log_error(predicted_Xtest, y_train[:1459,]))))\n",
    "\n",
    "# ValueError: Mean Squared Logarithmic Error cannot be used when targets contain negative values."
   ]
  },
  {
   "cell_type": "markdown",
   "id": "fd58f82b",
   "metadata": {},
   "source": [
    "### Back to Pandas for submitting predictions"
   ]
  },
  {
   "cell_type": "code",
   "execution_count": 49,
   "id": "13352e55",
   "metadata": {},
   "outputs": [
    {
     "data": {
      "text/plain": [
       "<bound method NDFrame.head of         Id      SalePrice\n",
       "0     1461  119523.214715\n",
       "1     1462  158434.980934\n",
       "2     1463  178505.619095\n",
       "3     1464  202938.346682\n",
       "4     1465  193808.737134\n",
       "...    ...            ...\n",
       "1454  2915   59820.075765\n",
       "1455  2916   67204.410680\n",
       "1456  2917  178164.346203\n",
       "1457  2918  104763.287213\n",
       "1458  2919  257395.006530\n",
       "\n",
       "[1459 rows x 2 columns]>"
      ]
     },
     "execution_count": 49,
     "metadata": {},
     "output_type": "execute_result"
    }
   ],
   "source": [
    "submission = pd.DataFrame(dict(Id=df_test.index, SalePrice=predicted_Xtest))\n",
    "submission.head"
   ]
  },
  {
   "cell_type": "code",
   "execution_count": 47,
   "id": "697b662e",
   "metadata": {},
   "outputs": [
    {
     "data": {
      "text/html": [
       "<div>\n",
       "<style scoped>\n",
       "    .dataframe tbody tr th:only-of-type {\n",
       "        vertical-align: middle;\n",
       "    }\n",
       "\n",
       "    .dataframe tbody tr th {\n",
       "        vertical-align: top;\n",
       "    }\n",
       "\n",
       "    .dataframe thead th {\n",
       "        text-align: right;\n",
       "    }\n",
       "</style>\n",
       "<table border=\"1\" class=\"dataframe\">\n",
       "  <thead>\n",
       "    <tr style=\"text-align: right;\">\n",
       "      <th></th>\n",
       "      <th>Id</th>\n",
       "      <th>SalePrice</th>\n",
       "    </tr>\n",
       "  </thead>\n",
       "  <tbody>\n",
       "    <tr>\n",
       "      <th>count</th>\n",
       "      <td>1459.000000</td>\n",
       "      <td>1459.000000</td>\n",
       "    </tr>\n",
       "    <tr>\n",
       "      <th>mean</th>\n",
       "      <td>2190.000000</td>\n",
       "      <td>180921.195890</td>\n",
       "    </tr>\n",
       "    <tr>\n",
       "      <th>std</th>\n",
       "      <td>421.321334</td>\n",
       "      <td>72251.679017</td>\n",
       "    </tr>\n",
       "    <tr>\n",
       "      <th>min</th>\n",
       "      <td>1461.000000</td>\n",
       "      <td>3666.453820</td>\n",
       "    </tr>\n",
       "    <tr>\n",
       "      <th>25%</th>\n",
       "      <td>1825.500000</td>\n",
       "      <td>130372.068975</td>\n",
       "    </tr>\n",
       "    <tr>\n",
       "      <th>50%</th>\n",
       "      <td>2190.000000</td>\n",
       "      <td>171494.506359</td>\n",
       "    </tr>\n",
       "    <tr>\n",
       "      <th>75%</th>\n",
       "      <td>2554.500000</td>\n",
       "      <td>224957.284071</td>\n",
       "    </tr>\n",
       "    <tr>\n",
       "      <th>max</th>\n",
       "      <td>2919.000000</td>\n",
       "      <td>658288.419730</td>\n",
       "    </tr>\n",
       "  </tbody>\n",
       "</table>\n",
       "</div>"
      ],
      "text/plain": [
       "                Id      SalePrice\n",
       "count  1459.000000    1459.000000\n",
       "mean   2190.000000  180921.195890\n",
       "std     421.321334   72251.679017\n",
       "min    1461.000000    3666.453820\n",
       "25%    1825.500000  130372.068975\n",
       "50%    2190.000000  171494.506359\n",
       "75%    2554.500000  224957.284071\n",
       "max    2919.000000  658288.419730"
      ]
     },
     "execution_count": 47,
     "metadata": {},
     "output_type": "execute_result"
    }
   ],
   "source": [
    "submission.describe()"
   ]
  },
  {
   "cell_type": "code",
   "execution_count": 48,
   "id": "9d6d5ba1",
   "metadata": {},
   "outputs": [],
   "source": [
    "submission = submission.astype(int)"
   ]
  },
  {
   "cell_type": "code",
   "execution_count": null,
   "id": "9bf33fe7",
   "metadata": {},
   "outputs": [],
   "source": [
    "#submission.to_csv('submission.csv', index=False, header=True)"
   ]
  },
  {
   "cell_type": "markdown",
   "id": "5b7e987a",
   "metadata": {},
   "source": [
    "## Acknowledgments\n",
    "\n",
    "- Machine Learning Specialization offered jointly by DeepLearning.AI and Stanford University on Coursera.\n",
    "- The housing data was derived from **Kaggle** [House Prices - Advanced Regression Techniques](https://www.kaggle.com/competitions/house-prices-advanced-regression-techniques/overview).\n",
    "\n",
    ">I will be uploading new Notebooks using `SGDRegressor` and `XGBoost` for better predictions.  Let me know if you have any recommendations.  Thanks!"
   ]
  },
  {
   "cell_type": "code",
   "execution_count": null,
   "id": "1fa37a6d",
   "metadata": {},
   "outputs": [],
   "source": []
  }
 ],
 "metadata": {
  "kernelspec": {
   "display_name": "Python 3 (ipykernel)",
   "language": "python",
   "name": "python3"
  },
  "language_info": {
   "codemirror_mode": {
    "name": "ipython",
    "version": 3
   },
   "file_extension": ".py",
   "mimetype": "text/x-python",
   "name": "python",
   "nbconvert_exporter": "python",
   "pygments_lexer": "ipython3",
   "version": "3.7.13"
  }
 },
 "nbformat": 4,
 "nbformat_minor": 5
}
