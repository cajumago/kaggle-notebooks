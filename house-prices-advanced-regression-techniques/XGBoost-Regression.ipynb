{
 "cells": [
  {
   "cell_type": "markdown",
   "id": "eae480cf",
   "metadata": {},
   "source": [
    "# Linear Regression using XGBoost\n",
    "\n",
    "- `Pandas`, `Scikit-learn` for cleaning data\n",
    "- `Matplotlib`, `Seaborn` for some basic visualizations\n",
    "- `Scikit-learn` for scaling\n",
    "- `XGBoost` for predictions"
   ]
  },
  {
   "cell_type": "markdown",
   "id": "bb52f1c7",
   "metadata": {},
   "source": [
    "### 1. Packages"
   ]
  },
  {
   "cell_type": "code",
   "execution_count": 1,
   "id": "5f567ce8",
   "metadata": {},
   "outputs": [],
   "source": [
    "import pandas as pd\n",
    "import numpy as np\n",
    "import matplotlib.pyplot as plt\n",
    "import seaborn as sns\n",
    "\n",
    "from sklearn.preprocessing import OneHotEncoder\n",
    "from sklearn.impute import SimpleImputer\n",
    "from sklearn.preprocessing import StandardScaler\n",
    "from sklearn.compose import ColumnTransformer, make_column_selector\n",
    "from sklearn.pipeline import make_pipeline\n",
    "from sklearn.model_selection import train_test_split\n",
    "from sklearn.metrics import mean_absolute_error, mean_squared_error, r2_score, mean_squared_log_error\n",
    "import category_encoders as ce\n",
    "\n",
    "import xgboost as xgb"
   ]
  },
  {
   "cell_type": "markdown",
   "id": "b2e676f2",
   "metadata": {},
   "source": [
    "### 2. Loading the `train` dataset\n",
    "Before starting on any task, it is useful to get more familiar with your dataset."
   ]
  },
  {
   "cell_type": "code",
   "execution_count": 2,
   "id": "ab5dfbae",
   "metadata": {},
   "outputs": [
    {
     "name": "stdout",
     "output_type": "stream",
     "text": [
      "The shape of df_train is:  (1460, 80)\n"
     ]
    },
    {
     "data": {
      "text/html": [
       "<div>\n",
       "<style scoped>\n",
       "    .dataframe tbody tr th:only-of-type {\n",
       "        vertical-align: middle;\n",
       "    }\n",
       "\n",
       "    .dataframe tbody tr th {\n",
       "        vertical-align: top;\n",
       "    }\n",
       "\n",
       "    .dataframe thead th {\n",
       "        text-align: right;\n",
       "    }\n",
       "</style>\n",
       "<table border=\"1\" class=\"dataframe\">\n",
       "  <thead>\n",
       "    <tr style=\"text-align: right;\">\n",
       "      <th></th>\n",
       "      <th>MSSubClass</th>\n",
       "      <th>MSZoning</th>\n",
       "      <th>LotFrontage</th>\n",
       "      <th>LotArea</th>\n",
       "      <th>Street</th>\n",
       "      <th>Alley</th>\n",
       "      <th>LotShape</th>\n",
       "      <th>LandContour</th>\n",
       "      <th>Utilities</th>\n",
       "      <th>LotConfig</th>\n",
       "      <th>...</th>\n",
       "      <th>PoolArea</th>\n",
       "      <th>PoolQC</th>\n",
       "      <th>Fence</th>\n",
       "      <th>MiscFeature</th>\n",
       "      <th>MiscVal</th>\n",
       "      <th>MoSold</th>\n",
       "      <th>YrSold</th>\n",
       "      <th>SaleType</th>\n",
       "      <th>SaleCondition</th>\n",
       "      <th>SalePrice</th>\n",
       "    </tr>\n",
       "    <tr>\n",
       "      <th>Id</th>\n",
       "      <th></th>\n",
       "      <th></th>\n",
       "      <th></th>\n",
       "      <th></th>\n",
       "      <th></th>\n",
       "      <th></th>\n",
       "      <th></th>\n",
       "      <th></th>\n",
       "      <th></th>\n",
       "      <th></th>\n",
       "      <th></th>\n",
       "      <th></th>\n",
       "      <th></th>\n",
       "      <th></th>\n",
       "      <th></th>\n",
       "      <th></th>\n",
       "      <th></th>\n",
       "      <th></th>\n",
       "      <th></th>\n",
       "      <th></th>\n",
       "      <th></th>\n",
       "    </tr>\n",
       "  </thead>\n",
       "  <tbody>\n",
       "    <tr>\n",
       "      <th>1</th>\n",
       "      <td>60</td>\n",
       "      <td>RL</td>\n",
       "      <td>65.0</td>\n",
       "      <td>8450</td>\n",
       "      <td>Pave</td>\n",
       "      <td>NaN</td>\n",
       "      <td>Reg</td>\n",
       "      <td>Lvl</td>\n",
       "      <td>AllPub</td>\n",
       "      <td>Inside</td>\n",
       "      <td>...</td>\n",
       "      <td>0</td>\n",
       "      <td>NaN</td>\n",
       "      <td>NaN</td>\n",
       "      <td>NaN</td>\n",
       "      <td>0</td>\n",
       "      <td>2</td>\n",
       "      <td>2008</td>\n",
       "      <td>WD</td>\n",
       "      <td>Normal</td>\n",
       "      <td>208500</td>\n",
       "    </tr>\n",
       "    <tr>\n",
       "      <th>2</th>\n",
       "      <td>20</td>\n",
       "      <td>RL</td>\n",
       "      <td>80.0</td>\n",
       "      <td>9600</td>\n",
       "      <td>Pave</td>\n",
       "      <td>NaN</td>\n",
       "      <td>Reg</td>\n",
       "      <td>Lvl</td>\n",
       "      <td>AllPub</td>\n",
       "      <td>FR2</td>\n",
       "      <td>...</td>\n",
       "      <td>0</td>\n",
       "      <td>NaN</td>\n",
       "      <td>NaN</td>\n",
       "      <td>NaN</td>\n",
       "      <td>0</td>\n",
       "      <td>5</td>\n",
       "      <td>2007</td>\n",
       "      <td>WD</td>\n",
       "      <td>Normal</td>\n",
       "      <td>181500</td>\n",
       "    </tr>\n",
       "  </tbody>\n",
       "</table>\n",
       "<p>2 rows × 80 columns</p>\n",
       "</div>"
      ],
      "text/plain": [
       "    MSSubClass MSZoning  LotFrontage  LotArea Street Alley LotShape  \\\n",
       "Id                                                                    \n",
       "1           60       RL         65.0     8450   Pave   NaN      Reg   \n",
       "2           20       RL         80.0     9600   Pave   NaN      Reg   \n",
       "\n",
       "   LandContour Utilities LotConfig  ... PoolArea PoolQC Fence MiscFeature  \\\n",
       "Id                                  ...                                     \n",
       "1          Lvl    AllPub    Inside  ...        0    NaN   NaN         NaN   \n",
       "2          Lvl    AllPub       FR2  ...        0    NaN   NaN         NaN   \n",
       "\n",
       "   MiscVal MoSold  YrSold  SaleType  SaleCondition  SalePrice  \n",
       "Id                                                             \n",
       "1        0      2    2008        WD         Normal     208500  \n",
       "2        0      5    2007        WD         Normal     181500  \n",
       "\n",
       "[2 rows x 80 columns]"
      ]
     },
     "execution_count": 2,
     "metadata": {},
     "output_type": "execute_result"
    }
   ],
   "source": [
    "df_train = pd.read_csv('train.csv').set_index('Id')\n",
    "print ('The shape of df_train is: ', df_train.shape)\n",
    "df_train.head(2)"
   ]
  },
  {
   "cell_type": "markdown",
   "id": "c8d4ed3e",
   "metadata": {},
   "source": [
    "- Target values are stored in a Numpy scalar `y_train`"
   ]
  },
  {
   "cell_type": "code",
   "execution_count": 3,
   "id": "7ef2eee3",
   "metadata": {},
   "outputs": [
    {
     "name": "stdout",
     "output_type": "stream",
     "text": [
      "y_train_raw Shape: (1460,), y_train_raw Type: <class 'numpy.ndarray'>)\n",
      "First element of y_train_raw are:\n",
      " [208500 181500 223500 ... 266500 142125 147500]\n",
      "Dimension of y_train_raw: 1\n"
     ]
    }
   ],
   "source": [
    "y_train_raw = np.array(df_train['SalePrice'])\n",
    "# print y_train_raw\n",
    "print(f\"y_train_raw Shape: {y_train_raw.shape}, y_train_raw Type: {type(y_train_raw)})\")\n",
    "print(\"First element of y_train_raw are:\\n\", y_train_raw[:])\n",
    "print(\"Dimension of y_train_raw:\", y_train_raw.ndim)"
   ]
  },
  {
   "cell_type": "markdown",
   "id": "86105eec",
   "metadata": {},
   "source": [
    "### 3. Visualize your data\n",
    "* Correlated columns with `SalePrice`"
   ]
  },
  {
   "cell_type": "code",
   "execution_count": 4,
   "id": "0349d86f",
   "metadata": {},
   "outputs": [
    {
     "data": {
      "text/plain": [
       "SalePrice      1.000000\n",
       "OverallQual    0.790982\n",
       "GrLivArea      0.708624\n",
       "GarageCars     0.640409\n",
       "GarageArea     0.623431\n",
       "TotalBsmtSF    0.613581\n",
       "1stFlrSF       0.605852\n",
       "Name: SalePrice, dtype: float64"
      ]
     },
     "execution_count": 4,
     "metadata": {},
     "output_type": "execute_result"
    }
   ],
   "source": [
    "corr = df_train.corr()\n",
    "corr.sort_values(['SalePrice'], ascending=False, inplace=True)\n",
    "corr.SalePrice.head(7)"
   ]
  },
  {
   "cell_type": "markdown",
   "id": "81d22dd4",
   "metadata": {},
   "source": [
    "- It is often useful to understand the data by visualizing it."
   ]
  },
  {
   "cell_type": "code",
   "execution_count": 5,
   "id": "56eec034",
   "metadata": {},
   "outputs": [
    {
     "data": {
      "image/png": "[encoded data removed]",
      "text/plain": [
       "<Figure size 1440x1080 with 6 Axes>"
      ]
     },
     "metadata": {
      "needs_background": "light"
     },
     "output_type": "display_data"
    }
   ],
   "source": [
    "fig, axes = plt.subplots(2,3, figsize=(20,15), sharey=True)\n",
    "\n",
    "plt.title('OverallQual')\n",
    "sns.scatterplot(ax=axes[0,0], data=df_train, x='OverallQual', y='SalePrice', color='b')\n",
    "plt.title('GrLivArea')\n",
    "sns.scatterplot(ax=axes[0,1], data=df_train, x='GrLivArea', y='SalePrice', color='g')\n",
    "plt.title('GarageCars')\n",
    "sns.scatterplot(ax=axes[0,2], data=df_train, x='GarageCars', y='SalePrice', color='b')\n",
    "plt.title('GarageArea')\n",
    "sns.scatterplot(ax=axes[1,0], data=df_train, x='GarageArea', y='SalePrice', color='g')\n",
    "plt.title('TotalBsmtSF')\n",
    "sns.scatterplot(ax=axes[1,1], data=df_train, x='TotalBsmtSF', y='SalePrice', color='b')\n",
    "plt.title('1stFlrSF')\n",
    "sns.scatterplot(ax=axes[1,2], data=df_train, x='1stFlrSF', y='SalePrice', color='g')\n",
    "\n",
    "plt.show()"
   ]
  },
  {
   "cell_type": "markdown",
   "id": "878860a0",
   "metadata": {},
   "source": [
    "* Histogram `['SalePrice']` on `train` set"
   ]
  },
  {
   "cell_type": "code",
   "execution_count": 6,
   "id": "fa5277a5",
   "metadata": {},
   "outputs": [
    {
     "data": {
      "image/png": "[encoded data removed]",
      "text/plain": [
       "<Figure size 432x288 with 1 Axes>"
      ]
     },
     "metadata": {
      "needs_background": "light"
     },
     "output_type": "display_data"
    }
   ],
   "source": [
    "df_train['SalePrice'].hist(bins = 50);"
   ]
  },
  {
   "cell_type": "markdown",
   "id": "cb3389b3",
   "metadata": {},
   "source": [
    "### 4. Loading the `test` dataset"
   ]
  },
  {
   "cell_type": "code",
   "execution_count": 7,
   "id": "46c459f7",
   "metadata": {},
   "outputs": [
    {
     "name": "stdout",
     "output_type": "stream",
     "text": [
      "The shape of df_test is:  (1459, 79)\n"
     ]
    },
    {
     "data": {
      "text/html": [
       "<div>\n",
       "<style scoped>\n",
       "    .dataframe tbody tr th:only-of-type {\n",
       "        vertical-align: middle;\n",
       "    }\n",
       "\n",
       "    .dataframe tbody tr th {\n",
       "        vertical-align: top;\n",
       "    }\n",
       "\n",
       "    .dataframe thead th {\n",
       "        text-align: right;\n",
       "    }\n",
       "</style>\n",
       "<table border=\"1\" class=\"dataframe\">\n",
       "  <thead>\n",
       "    <tr style=\"text-align: right;\">\n",
       "      <th></th>\n",
       "      <th>MSSubClass</th>\n",
       "      <th>MSZoning</th>\n",
       "      <th>LotFrontage</th>\n",
       "      <th>LotArea</th>\n",
       "      <th>Street</th>\n",
       "      <th>Alley</th>\n",
       "      <th>LotShape</th>\n",
       "      <th>LandContour</th>\n",
       "      <th>Utilities</th>\n",
       "      <th>LotConfig</th>\n",
       "      <th>...</th>\n",
       "      <th>ScreenPorch</th>\n",
       "      <th>PoolArea</th>\n",
       "      <th>PoolQC</th>\n",
       "      <th>Fence</th>\n",
       "      <th>MiscFeature</th>\n",
       "      <th>MiscVal</th>\n",
       "      <th>MoSold</th>\n",
       "      <th>YrSold</th>\n",
       "      <th>SaleType</th>\n",
       "      <th>SaleCondition</th>\n",
       "    </tr>\n",
       "    <tr>\n",
       "      <th>Id</th>\n",
       "      <th></th>\n",
       "      <th></th>\n",
       "      <th></th>\n",
       "      <th></th>\n",
       "      <th></th>\n",
       "      <th></th>\n",
       "      <th></th>\n",
       "      <th></th>\n",
       "      <th></th>\n",
       "      <th></th>\n",
       "      <th></th>\n",
       "      <th></th>\n",
       "      <th></th>\n",
       "      <th></th>\n",
       "      <th></th>\n",
       "      <th></th>\n",
       "      <th></th>\n",
       "      <th></th>\n",
       "      <th></th>\n",
       "      <th></th>\n",
       "      <th></th>\n",
       "    </tr>\n",
       "  </thead>\n",
       "  <tbody>\n",
       "    <tr>\n",
       "      <th>1461</th>\n",
       "      <td>20</td>\n",
       "      <td>RH</td>\n",
       "      <td>80.0</td>\n",
       "      <td>11622</td>\n",
       "      <td>Pave</td>\n",
       "      <td>NaN</td>\n",
       "      <td>Reg</td>\n",
       "      <td>Lvl</td>\n",
       "      <td>AllPub</td>\n",
       "      <td>Inside</td>\n",
       "      <td>...</td>\n",
       "      <td>120</td>\n",
       "      <td>0</td>\n",
       "      <td>NaN</td>\n",
       "      <td>MnPrv</td>\n",
       "      <td>NaN</td>\n",
       "      <td>0</td>\n",
       "      <td>6</td>\n",
       "      <td>2010</td>\n",
       "      <td>WD</td>\n",
       "      <td>Normal</td>\n",
       "    </tr>\n",
       "    <tr>\n",
       "      <th>1462</th>\n",
       "      <td>20</td>\n",
       "      <td>RL</td>\n",
       "      <td>81.0</td>\n",
       "      <td>14267</td>\n",
       "      <td>Pave</td>\n",
       "      <td>NaN</td>\n",
       "      <td>IR1</td>\n",
       "      <td>Lvl</td>\n",
       "      <td>AllPub</td>\n",
       "      <td>Corner</td>\n",
       "      <td>...</td>\n",
       "      <td>0</td>\n",
       "      <td>0</td>\n",
       "      <td>NaN</td>\n",
       "      <td>NaN</td>\n",
       "      <td>Gar2</td>\n",
       "      <td>12500</td>\n",
       "      <td>6</td>\n",
       "      <td>2010</td>\n",
       "      <td>WD</td>\n",
       "      <td>Normal</td>\n",
       "    </tr>\n",
       "  </tbody>\n",
       "</table>\n",
       "<p>2 rows × 79 columns</p>\n",
       "</div>"
      ],
      "text/plain": [
       "      MSSubClass MSZoning  LotFrontage  LotArea Street Alley LotShape  \\\n",
       "Id                                                                      \n",
       "1461          20       RH         80.0    11622   Pave   NaN      Reg   \n",
       "1462          20       RL         81.0    14267   Pave   NaN      IR1   \n",
       "\n",
       "     LandContour Utilities LotConfig  ... ScreenPorch PoolArea PoolQC  Fence  \\\n",
       "Id                                    ...                                      \n",
       "1461         Lvl    AllPub    Inside  ...         120        0    NaN  MnPrv   \n",
       "1462         Lvl    AllPub    Corner  ...           0        0    NaN    NaN   \n",
       "\n",
       "     MiscFeature MiscVal  MoSold  YrSold  SaleType  SaleCondition  \n",
       "Id                                                                 \n",
       "1461         NaN       0       6    2010        WD         Normal  \n",
       "1462        Gar2   12500       6    2010        WD         Normal  \n",
       "\n",
       "[2 rows x 79 columns]"
      ]
     },
     "execution_count": 7,
     "metadata": {},
     "output_type": "execute_result"
    }
   ],
   "source": [
    "df_test = pd.read_csv('test.csv').set_index('Id')\n",
    "print ('The shape of df_test is: ', df_test.shape)\n",
    "df_test.head(2)"
   ]
  },
  {
   "cell_type": "markdown",
   "id": "6a6cb879",
   "metadata": {},
   "source": [
    "### 5. Scaling and category encoder"
   ]
  },
  {
   "cell_type": "markdown",
   "id": "a9274038",
   "metadata": {},
   "source": [
    "- Choosing numeric features on `train` set and leaving out `SalePrice`"
   ]
  },
  {
   "cell_type": "code",
   "execution_count": 8,
   "id": "41755d56",
   "metadata": {},
   "outputs": [],
   "source": [
    "df_train.drop('SalePrice', axis=1, inplace=True)"
   ]
  },
  {
   "cell_type": "code",
   "execution_count": 9,
   "id": "9d4fad6f",
   "metadata": {},
   "outputs": [],
   "source": [
    "select_numeric_features = make_column_selector(dtype_include=np.number)"
   ]
  },
  {
   "cell_type": "code",
   "execution_count": 10,
   "id": "eb6aeceb",
   "metadata": {
    "scrolled": true
   },
   "outputs": [
    {
     "name": "stdout",
     "output_type": "stream",
     "text": [
      "N numeric_features_train: 36 \n",
      "\n",
      "MSSubClass, LotFrontage, LotArea, OverallQual, OverallCond, YearBuilt, YearRemodAdd, MasVnrArea, BsmtFinSF1, BsmtFinSF2, BsmtUnfSF, TotalBsmtSF, 1stFlrSF, 2ndFlrSF, LowQualFinSF, GrLivArea, BsmtFullBath, BsmtHalfBath, FullBath, HalfBath, BedroomAbvGr, KitchenAbvGr, TotRmsAbvGrd, Fireplaces, GarageYrBlt, GarageCars, GarageArea, WoodDeckSF, OpenPorchSF, EnclosedPorch, 3SsnPorch, ScreenPorch, PoolArea, MiscVal, MoSold, YrSold\n"
     ]
    }
   ],
   "source": [
    "numeric_features_train = select_numeric_features(df_train)\n",
    "\n",
    "print(f'N numeric_features_train: {len(numeric_features_train)} \\n')\n",
    "print(', '.join(numeric_features_train))"
   ]
  },
  {
   "cell_type": "markdown",
   "id": "604df294",
   "metadata": {},
   "source": [
    "- Visualizing numeric features on `test` set"
   ]
  },
  {
   "cell_type": "code",
   "execution_count": 11,
   "id": "b79d0b5f",
   "metadata": {},
   "outputs": [
    {
     "name": "stdout",
     "output_type": "stream",
     "text": [
      "N numeric_features_test: 36 \n",
      "\n",
      "MSSubClass, LotFrontage, LotArea, OverallQual, OverallCond, YearBuilt, YearRemodAdd, MasVnrArea, BsmtFinSF1, BsmtFinSF2, BsmtUnfSF, TotalBsmtSF, 1stFlrSF, 2ndFlrSF, LowQualFinSF, GrLivArea, BsmtFullBath, BsmtHalfBath, FullBath, HalfBath, BedroomAbvGr, KitchenAbvGr, TotRmsAbvGrd, Fireplaces, GarageYrBlt, GarageCars, GarageArea, WoodDeckSF, OpenPorchSF, EnclosedPorch, 3SsnPorch, ScreenPorch, PoolArea, MiscVal, MoSold, YrSold\n"
     ]
    }
   ],
   "source": [
    "numeric_features_test = select_numeric_features(df_test)\n",
    "\n",
    "print(f'N numeric_features_test: {len(numeric_features_test)} \\n')\n",
    "print(', '.join(numeric_features_test))"
   ]
  },
  {
   "cell_type": "markdown",
   "id": "8ddc6dee",
   "metadata": {},
   "source": [
    "#### Impute missing features values using a descriptive statistic `mean`, and normalize numeric features using `StandardScaler`"
   ]
  },
  {
   "cell_type": "markdown",
   "id": "fda494c5",
   "metadata": {},
   "source": [
    "- `train` & `test` sets"
   ]
  },
  {
   "cell_type": "code",
   "execution_count": 12,
   "id": "3ed2fe07",
   "metadata": {},
   "outputs": [],
   "source": [
    "df_train.fillna(np.nan, inplace=True)\n",
    "df_test.fillna(np.nan, inplace=True)\n",
    "\n",
    "numeric_pipeline = make_pipeline(SimpleImputer(strategy='mean'), StandardScaler())"
   ]
  },
  {
   "cell_type": "markdown",
   "id": "f946452b",
   "metadata": {},
   "source": [
    "##### Cardinality categorical features"
   ]
  },
  {
   "cell_type": "code",
   "execution_count": 13,
   "id": "1e0b774b",
   "metadata": {},
   "outputs": [
    {
     "data": {
      "image/png": "[encoded data removed]",
      "text/plain": [
       "<Figure size 1440x576 with 1 Axes>"
      ]
     },
     "metadata": {
      "needs_background": "light"
     },
     "output_type": "display_data"
    }
   ],
   "source": [
    "df_train_object = df_train.select_dtypes(include=\"object\")\n",
    "df_train_object.nunique().plot.bar(figsize=(20,8))\n",
    "plt.ylabel('Number of unique categories')\n",
    "plt.xlabel('Variables')\n",
    "plt.title('Cardinality check')\n",
    "plt.axhline(y = 10, color= 'r', linestyle='--')\n",
    "plt.show()"
   ]
  },
  {
   "cell_type": "markdown",
   "id": "b6b47140",
   "metadata": {},
   "source": [
    "#### Categorical with moderate-to-low cardinality"
   ]
  },
  {
   "cell_type": "code",
   "execution_count": 14,
   "id": "b8b99728",
   "metadata": {},
   "outputs": [
    {
     "name": "stdout",
     "output_type": "stream",
     "text": [
      "N oh_features: 40 \n",
      "\n",
      "MSZoning, Street, Alley, LotShape, LandContour, Utilities, LotConfig, LandSlope, Condition1, Condition2, BldgType, HouseStyle, RoofStyle, RoofMatl, MasVnrType, ExterQual, ExterCond, Foundation, BsmtQual, BsmtCond, BsmtExposure, BsmtFinType1, BsmtFinType2, Heating, HeatingQC, CentralAir, Electrical, KitchenQual, Functional, FireplaceQu, GarageType, GarageFinish, GarageQual, GarageCond, PavedDrive, PoolQC, Fence, MiscFeature, SaleType, SaleCondition\n"
     ]
    }
   ],
   "source": [
    "MAX_OH_CARDINALITY = 10\n",
    "\n",
    "def select_oh_features(df):\n",
    "    \n",
    "    hc_features =\\\n",
    "        df\\\n",
    "        .select_dtypes(['object', 'category'])\\\n",
    "        .apply(lambda col: col.nunique())\\\n",
    "        .loc[lambda x: x <= MAX_OH_CARDINALITY]\\\n",
    "        .index\\\n",
    "        .tolist()\n",
    "        \n",
    "    return hc_features\n",
    "\n",
    "oh_features = select_oh_features(df_train)\n",
    "\n",
    "print(f'N oh_features: {len(oh_features)} \\n')\n",
    "print(', '.join(oh_features))"
   ]
  },
  {
   "cell_type": "code",
   "execution_count": 15,
   "id": "28d173ff",
   "metadata": {},
   "outputs": [],
   "source": [
    "oh_pipeline = make_pipeline(SimpleImputer(strategy='constant'), OneHotEncoder(handle_unknown='ignore'))"
   ]
  },
  {
   "cell_type": "markdown",
   "id": "bdd39092",
   "metadata": {},
   "source": [
    "#### Categorical with high cardinality"
   ]
  },
  {
   "cell_type": "code",
   "execution_count": 16,
   "id": "0d4cba56",
   "metadata": {},
   "outputs": [
    {
     "name": "stdout",
     "output_type": "stream",
     "text": [
      "N hc_features: 3 \n",
      "\n",
      "Neighborhood, Exterior1st, Exterior2nd\n"
     ]
    }
   ],
   "source": [
    "def select_hc_features(df):\n",
    "    \n",
    "    hc_features =\\\n",
    "        df\\\n",
    "        .select_dtypes(['object', 'category'])\\\n",
    "        .apply(lambda col: col.nunique())\\\n",
    "        .loc[lambda x: x > MAX_OH_CARDINALITY]\\\n",
    "        .index\\\n",
    "        .tolist()\n",
    "        \n",
    "    return hc_features\n",
    "\n",
    "\n",
    "hc_features = select_hc_features(df_train)\n",
    "\n",
    "print(f'N hc_features: {len(hc_features)} \\n')\n",
    "print(', '.join(hc_features))"
   ]
  },
  {
   "cell_type": "code",
   "execution_count": 17,
   "id": "e4b872bd",
   "metadata": {},
   "outputs": [],
   "source": [
    "hc_pipeline = make_pipeline(ce.GLMMEncoder())"
   ]
  },
  {
   "cell_type": "markdown",
   "id": "bfe77360",
   "metadata": {},
   "source": [
    "#### Putting it all together"
   ]
  },
  {
   "cell_type": "code",
   "execution_count": 18,
   "id": "9e7e61dd",
   "metadata": {},
   "outputs": [],
   "source": [
    "column_transformer = ColumnTransformer(transformers = \n",
    "                                       [('numeric_pipeline', numeric_pipeline, select_numeric_features),\n",
    "                                        ('oh_pipeline', oh_pipeline, select_oh_features),\n",
    "                                        ('hc_pipeline', hc_pipeline, select_hc_features)],\n",
    "                      remainder='drop')"
   ]
  },
  {
   "cell_type": "code",
   "execution_count": 19,
   "id": "0909a7f3",
   "metadata": {},
   "outputs": [
    {
     "name": "stdout",
     "output_type": "stream",
     "text": [
      "(1460, 251)\n",
      "(1459, 251)\n"
     ]
    }
   ],
   "source": [
    "X_train_trsf = column_transformer.fit_transform(df_train, y_train_raw)\n",
    "X_test_trsf = column_transformer.transform(df_test)\n",
    "\n",
    "print(X_train_trsf.shape)\n",
    "print(X_test_trsf.shape)"
   ]
  },
  {
   "cell_type": "markdown",
   "id": "55dfd522",
   "metadata": {},
   "source": [
    "- Checking `train` set transformed as `numpy.ndarray`"
   ]
  },
  {
   "cell_type": "code",
   "execution_count": 20,
   "id": "09745474",
   "metadata": {},
   "outputs": [
    {
     "name": "stdout",
     "output_type": "stream",
     "text": [
      "0\n"
     ]
    }
   ],
   "source": [
    "print(np.sum(np.isnan(X_train_trsf)))"
   ]
  },
  {
   "cell_type": "code",
   "execution_count": 21,
   "id": "889d4fc5",
   "metadata": {},
   "outputs": [
    {
     "name": "stdout",
     "output_type": "stream",
     "text": [
      "X_train_trsf Type     : <class 'numpy.ndarray'>\n",
      "X_train_trsf Shape    : (1460, 251)\n",
      "X_train_trsf Dimension: 2\n"
     ]
    }
   ],
   "source": [
    "print(\"X_train_trsf Type     :\", type(X_train_trsf))\n",
    "print(f\"X_train_trsf Shape    : {X_train_trsf.shape}\")\n",
    "print(\"X_train_trsf Dimension:\", X_train_trsf.ndim)"
   ]
  },
  {
   "cell_type": "markdown",
   "id": "85636aa9",
   "metadata": {},
   "source": [
    "Normalize and encoder `train` examples are stored in a Numpy matriz `X_train_trsf`."
   ]
  },
  {
   "cell_type": "code",
   "execution_count": 22,
   "id": "60618109",
   "metadata": {},
   "outputs": [],
   "source": [
    "#print(\"First element of X_train_trsf are:\\n\", X_train_trsf[:1])"
   ]
  },
  {
   "cell_type": "markdown",
   "id": "c6767a0d",
   "metadata": {},
   "source": [
    "- Checking `test` set transformed as `numpy.ndarray`"
   ]
  },
  {
   "cell_type": "code",
   "execution_count": 23,
   "id": "c04807ab",
   "metadata": {},
   "outputs": [
    {
     "name": "stdout",
     "output_type": "stream",
     "text": [
      "0\n"
     ]
    }
   ],
   "source": [
    "print(np.sum(np.isnan(X_test_trsf)))"
   ]
  },
  {
   "cell_type": "code",
   "execution_count": 24,
   "id": "e5b3fe2f",
   "metadata": {},
   "outputs": [
    {
     "name": "stdout",
     "output_type": "stream",
     "text": [
      "X_test_trsf Type     : <class 'numpy.ndarray'>\n",
      "X_test_trsf Shape    : (1459, 251)\n",
      "X_test_trsf Dimension: 2\n"
     ]
    }
   ],
   "source": [
    "print(\"X_test_trsf Type     :\", type(X_test_trsf))\n",
    "print(f\"X_test_trsf Shape    : {X_test_trsf.shape}\")\n",
    "print(\"X_test_trsf Dimension:\", X_test_trsf.ndim)"
   ]
  },
  {
   "cell_type": "markdown",
   "id": "4133de56",
   "metadata": {},
   "source": [
    "Normalize and encoder `test` examples are stored in a Numpy matriz `X_test_trsf`."
   ]
  },
  {
   "cell_type": "code",
   "execution_count": 25,
   "id": "09c5be20",
   "metadata": {},
   "outputs": [],
   "source": [
    "#print(\"First element of X_test_trsf are:\\n\", X_test_trsf[:1])"
   ]
  },
  {
   "cell_type": "markdown",
   "id": "ec1429ea",
   "metadata": {},
   "source": [
    "### 6. Fit the model with `XGBoost`"
   ]
  },
  {
   "cell_type": "markdown",
   "id": "652fc6e5",
   "metadata": {},
   "source": [
    "- Separate data into *training* and *validation* sets"
   ]
  },
  {
   "cell_type": "code",
   "execution_count": 26,
   "id": "63e91b7b",
   "metadata": {},
   "outputs": [],
   "source": [
    "X_train, X_valid, y_train, y_valid = train_test_split(X_train_trsf, y_train_raw, test_size=0.3, random_state=0)"
   ]
  },
  {
   "cell_type": "markdown",
   "id": "db87667a",
   "metadata": {},
   "source": [
    "- Shape and Dimensions"
   ]
  },
  {
   "cell_type": "code",
   "execution_count": 27,
   "id": "6ed887ad",
   "metadata": {},
   "outputs": [
    {
     "name": "stdout",
     "output_type": "stream",
     "text": [
      "X_train Shape    : (1022, 251),| y_train Shape    : (1022,)\n",
      "X_train Dimension: 2           | y_train Dimension: 1\n",
      "X_valid Shape    : (438, 251), | y_valid Shape    : (438,)\n",
      "X_valid Dimension: 2           | y_valid Dimension: 1\n"
     ]
    }
   ],
   "source": [
    "print(f\"X_train Shape    : {X_train.shape},| y_train Shape    : {y_train.shape}\")\n",
    "print(\"X_train Dimension:\", X_train.ndim, \"          | y_train Dimension:\", y_train.ndim)\n",
    "print(f\"X_valid Shape    : {X_valid.shape}, | y_valid Shape    : {y_valid.shape}\")\n",
    "print(\"X_valid Dimension:\", X_valid.ndim, \"          | y_valid Dimension:\", y_valid.ndim)"
   ]
  },
  {
   "cell_type": "markdown",
   "id": "ef9083fb",
   "metadata": {},
   "source": [
    "#### `XGBRegressor`"
   ]
  },
  {
   "cell_type": "code",
   "execution_count": 28,
   "id": "3772f0e4",
   "metadata": {},
   "outputs": [
    {
     "data": {
      "text/plain": [
       "XGBRegressor(base_score=0.5, booster='gbtree', colsample_bylevel=1,\n",
       "             colsample_bynode=1, colsample_bytree=1, enable_categorical=False,\n",
       "             gamma=0, gpu_id=-1, importance_type=None,\n",
       "             interaction_constraints='', learning_rate=0.300000012,\n",
       "             max_delta_step=0, max_depth=6, min_child_weight=1, missing=nan,\n",
       "             monotone_constraints='()', n_estimators=100, n_jobs=8,\n",
       "             num_parallel_tree=1, predictor='auto', random_state=0, reg_alpha=0,\n",
       "             reg_lambda=1, scale_pos_weight=1, subsample=1, tree_method='exact',\n",
       "             validate_parameters=1, verbosity=None)"
      ]
     },
     "execution_count": 28,
     "metadata": {},
     "output_type": "execute_result"
    }
   ],
   "source": [
    "model_0 = xgb.XGBRegressor()\n",
    "model_0.fit(X_train, y_train)"
   ]
  },
  {
   "cell_type": "code",
   "execution_count": 29,
   "id": "309e6c7b",
   "metadata": {},
   "outputs": [
    {
     "name": "stdout",
     "output_type": "stream",
     "text": [
      "R2 Score                           : 0.8504492661014049\n",
      "Mean Absolute Error                : 17622.04422624144\n",
      "Mean Square Error                  : 1015298652.4273086\n",
      "Mean Squared Logarithmic Error     : 0.018041121697764163\n",
      "Root Mean Square Error             : 31863.751386604003\n",
      "Root Mean Squared Logarithmic Error: 0.1343172427418169\n"
     ]
    }
   ],
   "source": [
    "predictions_0 = model_0.predict(X_valid)\n",
    "\n",
    "print(\"R2 Score                           : \" + str(r2_score(y_valid, predictions_0)))\n",
    "print(\"Mean Absolute Error                : \" + str(mean_absolute_error(y_valid, predictions_0)))\n",
    "print(\"Mean Square Error                  : \" + str(mean_squared_error(y_valid, predictions_0)))\n",
    "print(\"Mean Squared Logarithmic Error     : \" + str(mean_squared_log_error(y_valid, predictions_0)))\n",
    "print(\"Root Mean Square Error             : \" + str(np.sqrt(mean_squared_error(y_valid, predictions_0))))\n",
    "print(\"Root Mean Squared Logarithmic Error: \" + str(np.sqrt(mean_squared_log_error(y_valid, predictions_0))))\n",
    "\n",
    "# ValueError: Mean Squared Logarithmic Error cannot be used when targets contain negative values."
   ]
  },
  {
   "cell_type": "markdown",
   "id": "2e41b8d6",
   "metadata": {},
   "source": [
    "- Parameter Tuning 1"
   ]
  },
  {
   "cell_type": "code",
   "execution_count": 30,
   "id": "0a7908a5",
   "metadata": {},
   "outputs": [
    {
     "data": {
      "text/plain": [
       "XGBRegressor(base_score=0.5, booster='gbtree', colsample_bylevel=1,\n",
       "             colsample_bynode=1, colsample_bytree=1, enable_categorical=False,\n",
       "             gamma=0, gpu_id=-1, importance_type=None,\n",
       "             interaction_constraints='', learning_rate=0.300000012,\n",
       "             max_delta_step=0, max_depth=6, min_child_weight=1, missing=nan,\n",
       "             monotone_constraints='()', n_estimators=500, n_jobs=8,\n",
       "             num_parallel_tree=1, predictor='auto', random_state=0, reg_alpha=0,\n",
       "             reg_lambda=1, scale_pos_weight=1, subsample=1, tree_method='exact',\n",
       "             validate_parameters=1, verbosity=None)"
      ]
     },
     "execution_count": 30,
     "metadata": {},
     "output_type": "execute_result"
    }
   ],
   "source": [
    "model_1 = xgb.XGBRegressor(n_estimators=500)\n",
    "model_1.fit(X_train, y_train)"
   ]
  },
  {
   "cell_type": "code",
   "execution_count": 31,
   "id": "a23c748c",
   "metadata": {},
   "outputs": [
    {
     "name": "stdout",
     "output_type": "stream",
     "text": [
      "R2 Score                           : 0.8505283444050589\n",
      "Mean Absolute Error                : 17637.974395333906\n",
      "Mean Square Error                  : 1014761790.5006354\n",
      "Mean Squared Logarithmic Error     : 0.018035117454934715\n",
      "Root Mean Square Error             : 31855.325936185858\n",
      "Root Mean Squared Logarithmic Error: 0.13429488990626082\n"
     ]
    }
   ],
   "source": [
    "predictions_1 = model_1.predict(X_valid)\n",
    "\n",
    "print(\"R2 Score                           : \" + str(r2_score(y_valid, predictions_1)))\n",
    "print(\"Mean Absolute Error                : \" + str(mean_absolute_error(y_valid, predictions_1)))\n",
    "print(\"Mean Square Error                  : \" + str(mean_squared_error(y_valid, predictions_1)))\n",
    "print(\"Mean Squared Logarithmic Error     : \" + str(mean_squared_log_error(y_valid, predictions_1)))\n",
    "print(\"Root Mean Square Error             : \" + str(np.sqrt(mean_squared_error(y_valid, predictions_1))))\n",
    "print(\"Root Mean Squared Logarithmic Error: \" + str(np.sqrt(mean_squared_log_error(y_valid, predictions_1))))\n",
    "\n",
    "# ValueError: Mean Squared Logarithmic Error cannot be used when targets contain negative values."
   ]
  },
  {
   "cell_type": "markdown",
   "id": "af08113e",
   "metadata": {},
   "source": [
    "- Parameter Tuning 2"
   ]
  },
  {
   "cell_type": "code",
   "execution_count": 32,
   "id": "73c6477d",
   "metadata": {},
   "outputs": [
    {
     "data": {
      "text/plain": [
       "XGBRegressor(base_score=0.5, booster='gbtree', colsample_bylevel=1,\n",
       "             colsample_bynode=1, colsample_bytree=1, enable_categorical=False,\n",
       "             gamma=0, gpu_id=-1, importance_type=None,\n",
       "             interaction_constraints='', learning_rate=0.300000012,\n",
       "             max_delta_step=0, max_depth=6, min_child_weight=1, missing=nan,\n",
       "             monotone_constraints='()', n_estimators=1000, n_jobs=8,\n",
       "             num_parallel_tree=1, predictor='auto', random_state=0, reg_alpha=0,\n",
       "             reg_lambda=1, scale_pos_weight=1, subsample=1, tree_method='exact',\n",
       "             validate_parameters=1, verbosity=None)"
      ]
     },
     "execution_count": 32,
     "metadata": {},
     "output_type": "execute_result"
    }
   ],
   "source": [
    "model_2 = xgb.XGBRegressor(n_estimators=1000)\n",
    "model_2.fit(X_train, y_train)"
   ]
  },
  {
   "cell_type": "code",
   "execution_count": 33,
   "id": "d900262b",
   "metadata": {},
   "outputs": [
    {
     "name": "stdout",
     "output_type": "stream",
     "text": [
      "R2 Score                           : 0.8505292716784018\n",
      "Mean Absolute Error                : 17637.91680936073\n",
      "Mean Square Error                  : 1014755495.2498475\n",
      "Mean Squared Logarithmic Error     : 0.018035021935490676\n",
      "Root Mean Square Error             : 31855.227126012578\n",
      "Root Mean Squared Logarithmic Error: 0.13429453427258564\n"
     ]
    }
   ],
   "source": [
    "predictions_2 = model_2.predict(X_valid)\n",
    "\n",
    "print(\"R2 Score                           : \" + str(r2_score(y_valid, predictions_2)))\n",
    "print(\"Mean Absolute Error                : \" + str(mean_absolute_error(y_valid, predictions_2)))\n",
    "print(\"Mean Square Error                  : \" + str(mean_squared_error(y_valid, predictions_2)))\n",
    "print(\"Mean Squared Logarithmic Error     : \" + str(mean_squared_log_error(y_valid, predictions_2)))\n",
    "print(\"Root Mean Square Error             : \" + str(np.sqrt(mean_squared_error(y_valid, predictions_2))))\n",
    "print(\"Root Mean Squared Logarithmic Error: \" + str(np.sqrt(mean_squared_log_error(y_valid, predictions_2))))\n",
    "\n",
    "# ValueError: Mean Squared Logarithmic Error cannot be used when targets contain negative values."
   ]
  },
  {
   "cell_type": "markdown",
   "id": "bb44da4e",
   "metadata": {},
   "source": [
    "- Parameter Tuning 3\n",
    "\n",
    ">**GridSearchCV**: Best parameters: `(n_estimators=500, max_depth=5, colsample_bylevel=0.4, learning_rate=3.0e-2)`"
   ]
  },
  {
   "cell_type": "code",
   "execution_count": 34,
   "id": "ab8e6d64",
   "metadata": {},
   "outputs": [
    {
     "data": {
      "text/plain": [
       "XGBRegressor(base_score=0.5, booster='gbtree', colsample_bylevel=0.4,\n",
       "             colsample_bynode=1, colsample_bytree=1, enable_categorical=False,\n",
       "             gamma=0, gpu_id=-1, importance_type=None,\n",
       "             interaction_constraints='', learning_rate=0.03, max_delta_step=0,\n",
       "             max_depth=5, min_child_weight=1, missing=nan,\n",
       "             monotone_constraints='()', n_estimators=500, n_jobs=8,\n",
       "             num_parallel_tree=1, predictor='auto', random_state=0, reg_alpha=0,\n",
       "             reg_lambda=1, scale_pos_weight=1, subsample=1, tree_method='exact',\n",
       "             validate_parameters=1, verbosity=None)"
      ]
     },
     "execution_count": 34,
     "metadata": {},
     "output_type": "execute_result"
    }
   ],
   "source": [
    "model_3 = xgb.XGBRegressor(n_estimators=500, max_depth=5, colsample_bylevel=0.4, learning_rate=3.0e-2)\n",
    "model_3.fit(X_train, y_train)"
   ]
  },
  {
   "cell_type": "code",
   "execution_count": 35,
   "id": "5eb6c6cb",
   "metadata": {},
   "outputs": [
    {
     "name": "stdout",
     "output_type": "stream",
     "text": [
      "R2 Score                           : 0.8919786610323069\n",
      "Mean Absolute Error                : 14985.002782534246\n",
      "Mean Square Error                  : 733355945.6930393\n",
      "Mean Squared Logarithmic Error     : 0.013918001025460012\n",
      "Root Mean Square Error             : 27080.545520595395\n",
      "Root Mean Squared Logarithmic Error: 0.11797457787786321\n"
     ]
    }
   ],
   "source": [
    "predictions_3 = model_3.predict(X_valid)\n",
    "\n",
    "print(\"R2 Score                           : \" + str(r2_score(y_valid, predictions_3)))\n",
    "print(\"Mean Absolute Error                : \" + str(mean_absolute_error(y_valid, predictions_3)))\n",
    "print(\"Mean Square Error                  : \" + str(mean_squared_error(y_valid, predictions_3)))\n",
    "print(\"Mean Squared Logarithmic Error     : \" + str(mean_squared_log_error(y_valid, predictions_3)))\n",
    "print(\"Root Mean Square Error             : \" + str(np.sqrt(mean_squared_error(y_valid, predictions_3))))\n",
    "print(\"Root Mean Squared Logarithmic Error: \" + str(np.sqrt(mean_squared_log_error(y_valid, predictions_3))))\n",
    "\n",
    "# ValueError: Mean Squared Logarithmic Error cannot be used when targets contain negative values."
   ]
  },
  {
   "cell_type": "markdown",
   "id": "d23fb565",
   "metadata": {},
   "source": [
    "* Outlier"
   ]
  },
  {
   "cell_type": "code",
   "execution_count": 36,
   "id": "51b0cc12",
   "metadata": {},
   "outputs": [
    {
     "data": {
      "text/plain": [
       "0"
      ]
     },
     "execution_count": 36,
     "metadata": {},
     "output_type": "execute_result"
    }
   ],
   "source": [
    "np.sum(predictions_3 < 0)"
   ]
  },
  {
   "cell_type": "code",
   "execution_count": 37,
   "id": "fd8439f6",
   "metadata": {},
   "outputs": [
    {
     "name": "stdout",
     "output_type": "stream",
     "text": [
      "Shape of predictions_3: (438,)\n",
      "Dimension of predictions_3: 1\n"
     ]
    }
   ],
   "source": [
    "print(\"Shape of predictions_3:\", predictions_3.shape)\n",
    "print(\"Dimension of predictions_3:\", predictions_3.ndim)"
   ]
  },
  {
   "cell_type": "markdown",
   "id": "5d5b6006",
   "metadata": {},
   "source": [
    "### 12. Make predictions on `test` set\n",
    "Make predictions using best model `model_3`"
   ]
  },
  {
   "cell_type": "code",
   "execution_count": 38,
   "id": "ab6af95b",
   "metadata": {},
   "outputs": [
    {
     "name": "stdout",
     "output_type": "stream",
     "text": [
      "R2 Score                           : -0.9171910436155453\n",
      "Mean Absolute Error                : 80296.71729620031\n",
      "Mean Square Error                  : 12098137228.470667\n",
      "Mean Squared Logarithmic Error     : 0.30590365334170083\n",
      "Root Mean Square Error             : 109991.5325307847\n",
      "Root Mean Squared Logarithmic Error: 0.553085575062034\n"
     ]
    }
   ],
   "source": [
    "predictions_test = model_3.predict(X_test_trsf)\n",
    "\n",
    "print(\"R2 Score                           : \" + str(r2_score(y_train_raw[:1459,], predictions_test)))\n",
    "print(\"Mean Absolute Error                : \" + str(mean_absolute_error(y_train_raw[:1459,], predictions_test)))\n",
    "print(\"Mean Square Error                  : \" + str(mean_squared_error(y_train_raw[:1459,], predictions_test)))\n",
    "print(\"Mean Squared Logarithmic Error     : \" + str(mean_squared_log_error(y_train_raw[:1459,], predictions_test)))\n",
    "print(\"Root Mean Square Error             : \" + str(np.sqrt(mean_squared_error(y_train_raw[:1459,], predictions_test))))\n",
    "print(\"Root Mean Squared Logarithmic Error: \" + str(np.sqrt(mean_squared_log_error(y_train_raw[:1459,], predictions_test))))\n",
    "\n",
    "# ValueError: Mean Squared Logarithmic Error cannot be used when targets contain negative values."
   ]
  },
  {
   "cell_type": "markdown",
   "id": "fd58f82b",
   "metadata": {},
   "source": [
    "### Back to Pandas for submitting predictions"
   ]
  },
  {
   "cell_type": "code",
   "execution_count": 39,
   "id": "13352e55",
   "metadata": {},
   "outputs": [
    {
     "data": {
      "text/plain": [
       "<bound method NDFrame.head of         Id      SalePrice\n",
       "0     1461  124117.875000\n",
       "1     1462  156254.296875\n",
       "2     1463  188386.375000\n",
       "3     1464  192688.640625\n",
       "4     1465  196134.187500\n",
       "...    ...            ...\n",
       "1454  2915   81536.976562\n",
       "1455  2916   77432.382812\n",
       "1456  2917  165558.750000\n",
       "1457  2918  110576.359375\n",
       "1458  2919  217230.828125\n",
       "\n",
       "[1459 rows x 2 columns]>"
      ]
     },
     "execution_count": 39,
     "metadata": {},
     "output_type": "execute_result"
    }
   ],
   "source": [
    "submission = pd.DataFrame(dict(Id=df_test.index, SalePrice=predictions_test))\n",
    "submission.head"
   ]
  },
  {
   "cell_type": "code",
   "execution_count": 40,
   "id": "697b662e",
   "metadata": {},
   "outputs": [
    {
     "data": {
      "text/html": [
       "<div>\n",
       "<style scoped>\n",
       "    .dataframe tbody tr th:only-of-type {\n",
       "        vertical-align: middle;\n",
       "    }\n",
       "\n",
       "    .dataframe tbody tr th {\n",
       "        vertical-align: top;\n",
       "    }\n",
       "\n",
       "    .dataframe thead th {\n",
       "        text-align: right;\n",
       "    }\n",
       "</style>\n",
       "<table border=\"1\" class=\"dataframe\">\n",
       "  <thead>\n",
       "    <tr style=\"text-align: right;\">\n",
       "      <th></th>\n",
       "      <th>Id</th>\n",
       "      <th>SalePrice</th>\n",
       "    </tr>\n",
       "  </thead>\n",
       "  <tbody>\n",
       "    <tr>\n",
       "      <th>count</th>\n",
       "      <td>1459.000000</td>\n",
       "      <td>1459.000000</td>\n",
       "    </tr>\n",
       "    <tr>\n",
       "      <th>mean</th>\n",
       "      <td>2190.000000</td>\n",
       "      <td>178869.687500</td>\n",
       "    </tr>\n",
       "    <tr>\n",
       "      <th>std</th>\n",
       "      <td>421.321334</td>\n",
       "      <td>76605.937500</td>\n",
       "    </tr>\n",
       "    <tr>\n",
       "      <th>min</th>\n",
       "      <td>1461.000000</td>\n",
       "      <td>42858.933594</td>\n",
       "    </tr>\n",
       "    <tr>\n",
       "      <th>25%</th>\n",
       "      <td>1825.500000</td>\n",
       "      <td>128313.187500</td>\n",
       "    </tr>\n",
       "    <tr>\n",
       "      <th>50%</th>\n",
       "      <td>2190.000000</td>\n",
       "      <td>158141.593750</td>\n",
       "    </tr>\n",
       "    <tr>\n",
       "      <th>75%</th>\n",
       "      <td>2554.500000</td>\n",
       "      <td>210583.867188</td>\n",
       "    </tr>\n",
       "    <tr>\n",
       "      <th>max</th>\n",
       "      <td>2919.000000</td>\n",
       "      <td>542077.562500</td>\n",
       "    </tr>\n",
       "  </tbody>\n",
       "</table>\n",
       "</div>"
      ],
      "text/plain": [
       "                Id      SalePrice\n",
       "count  1459.000000    1459.000000\n",
       "mean   2190.000000  178869.687500\n",
       "std     421.321334   76605.937500\n",
       "min    1461.000000   42858.933594\n",
       "25%    1825.500000  128313.187500\n",
       "50%    2190.000000  158141.593750\n",
       "75%    2554.500000  210583.867188\n",
       "max    2919.000000  542077.562500"
      ]
     },
     "execution_count": 40,
     "metadata": {},
     "output_type": "execute_result"
    }
   ],
   "source": [
    "submission.describe()"
   ]
  },
  {
   "cell_type": "code",
   "execution_count": 41,
   "id": "9d6d5ba1",
   "metadata": {},
   "outputs": [],
   "source": [
    "submission = submission.astype(int)"
   ]
  },
  {
   "cell_type": "code",
   "execution_count": null,
   "id": "9bf33fe7",
   "metadata": {},
   "outputs": [],
   "source": [
    "#submission.to_csv('submission.csv', index=False, header=True)"
   ]
  },
  {
   "cell_type": "markdown",
   "id": "5b7e987a",
   "metadata": {},
   "source": [
    "## Acknowledgments\n",
    "\n",
    "- Machine Learning Specialization offered jointly by DeepLearning.AI and Stanford University on Coursera.\n",
    "- The housing data was derived from **Kaggle** [House Prices - Advanced Regression Techniques](https://www.kaggle.com/competitions/house-prices-advanced-regression-techniques/overview).\n",
    "- Category Encoder: Scikit-Learn ColumnTransformer approach from [Kyle Gilde](https://www.kaggle.com/code/kylegilde/building-columntransformers-dynamically) on **Kaggle**\n",
    "\n",
    ">Let me know if you have any recommendations.  Thanks!"
   ]
  },
  {
   "cell_type": "code",
   "execution_count": null,
   "id": "1fa37a6d",
   "metadata": {},
   "outputs": [],
   "source": []
  }
 ],
 "metadata": {
  "kernelspec": {
   "display_name": "Python 3 (ipykernel)",
   "language": "python",
   "name": "python3"
  },
  "language_info": {
   "codemirror_mode": {
    "name": "ipython",
    "version": 3
   },
   "file_extension": ".py",
   "mimetype": "text/x-python",
   "name": "python",
   "nbconvert_exporter": "python",
   "pygments_lexer": "ipython3",
   "version": "3.7.13"
  }
 },
 "nbformat": 4,
 "nbformat_minor": 5
}
