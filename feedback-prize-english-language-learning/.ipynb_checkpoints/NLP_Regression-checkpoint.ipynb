{
 "cells": [
  {
   "cell_type": "markdown",
   "id": "2aebe8c9",
   "metadata": {},
   "source": [
    "# [Feedback Prize - English Language Learning](https://www.kaggle.com/competitions/feedback-prize-english-language-learning)\n",
    "#### Evaluating language knowledge of ELL students from grades 8-12"
   ]
  },
  {
   "cell_type": "code",
   "execution_count": 1,
   "id": "b445e908",
   "metadata": {},
   "outputs": [],
   "source": [
    "import numpy as np\n",
    "import pandas as pd\n",
    "\n",
    "from sklearn.feature_extraction.text import TfidfVectorizer\n",
    "from sklearn.multioutput import MultiOutputRegressor\n",
    "from sklearn.linear_model import LinearRegression\n",
    "from sklearn.ensemble import GradientBoostingRegressor\n",
    "\n",
    "import xgboost as xgb"
   ]
  },
  {
   "cell_type": "code",
   "execution_count": 2,
   "id": "2526a429",
   "metadata": {},
   "outputs": [
    {
     "data": {
      "text/html": [
       "<div>\n",
       "<style scoped>\n",
       "    .dataframe tbody tr th:only-of-type {\n",
       "        vertical-align: middle;\n",
       "    }\n",
       "\n",
       "    .dataframe tbody tr th {\n",
       "        vertical-align: top;\n",
       "    }\n",
       "\n",
       "    .dataframe thead th {\n",
       "        text-align: right;\n",
       "    }\n",
       "</style>\n",
       "<table border=\"1\" class=\"dataframe\">\n",
       "  <thead>\n",
       "    <tr style=\"text-align: right;\">\n",
       "      <th></th>\n",
       "      <th>full_text</th>\n",
       "      <th>cohesion</th>\n",
       "      <th>syntax</th>\n",
       "      <th>vocabulary</th>\n",
       "      <th>phraseology</th>\n",
       "      <th>grammar</th>\n",
       "      <th>conventions</th>\n",
       "    </tr>\n",
       "    <tr>\n",
       "      <th>text_id</th>\n",
       "      <th></th>\n",
       "      <th></th>\n",
       "      <th></th>\n",
       "      <th></th>\n",
       "      <th></th>\n",
       "      <th></th>\n",
       "      <th></th>\n",
       "    </tr>\n",
       "  </thead>\n",
       "  <tbody>\n",
       "    <tr>\n",
       "      <th>0016926B079C</th>\n",
       "      <td>I think that students would benefit from learn...</td>\n",
       "      <td>3.5</td>\n",
       "      <td>3.5</td>\n",
       "      <td>3.0</td>\n",
       "      <td>3.0</td>\n",
       "      <td>4.0</td>\n",
       "      <td>3.0</td>\n",
       "    </tr>\n",
       "    <tr>\n",
       "      <th>0022683E9EA5</th>\n",
       "      <td>When a problem is a change you have to let it ...</td>\n",
       "      <td>2.5</td>\n",
       "      <td>2.5</td>\n",
       "      <td>3.0</td>\n",
       "      <td>2.0</td>\n",
       "      <td>2.0</td>\n",
       "      <td>2.5</td>\n",
       "    </tr>\n",
       "  </tbody>\n",
       "</table>\n",
       "</div>"
      ],
      "text/plain": [
       "                                                      full_text  cohesion  \\\n",
       "text_id                                                                     \n",
       "0016926B079C  I think that students would benefit from learn...       3.5   \n",
       "0022683E9EA5  When a problem is a change you have to let it ...       2.5   \n",
       "\n",
       "              syntax  vocabulary  phraseology  grammar  conventions  \n",
       "text_id                                                              \n",
       "0016926B079C     3.5         3.0          3.0      4.0          3.0  \n",
       "0022683E9EA5     2.5         3.0          2.0      2.0          2.5  "
      ]
     },
     "execution_count": 2,
     "metadata": {},
     "output_type": "execute_result"
    }
   ],
   "source": [
    "df_train = pd.read_csv('train.csv').set_index('text_id')\n",
    "df_train.head(2)\n",
    "#3911 rows x 7 columns"
   ]
  },
  {
   "cell_type": "code",
   "execution_count": 3,
   "id": "f0f29948",
   "metadata": {},
   "outputs": [],
   "source": [
    "text_train = df_train['full_text']\n",
    "scores = df_train.drop('full_text', axis=1)"
   ]
  },
  {
   "cell_type": "code",
   "execution_count": 4,
   "id": "288b4320",
   "metadata": {},
   "outputs": [
    {
     "data": {
      "text/plain": [
       "text_id\n",
       "0016926B079C    I think that students would benefit from learn...\n",
       "0022683E9EA5    When a problem is a change you have to let it ...\n",
       "Name: full_text, dtype: object"
      ]
     },
     "execution_count": 4,
     "metadata": {},
     "output_type": "execute_result"
    }
   ],
   "source": [
    "text_train.head(2)"
   ]
  },
  {
   "cell_type": "code",
   "execution_count": 5,
   "id": "8667191b",
   "metadata": {},
   "outputs": [
    {
     "data": {
      "text/html": [
       "<div>\n",
       "<style scoped>\n",
       "    .dataframe tbody tr th:only-of-type {\n",
       "        vertical-align: middle;\n",
       "    }\n",
       "\n",
       "    .dataframe tbody tr th {\n",
       "        vertical-align: top;\n",
       "    }\n",
       "\n",
       "    .dataframe thead th {\n",
       "        text-align: right;\n",
       "    }\n",
       "</style>\n",
       "<table border=\"1\" class=\"dataframe\">\n",
       "  <thead>\n",
       "    <tr style=\"text-align: right;\">\n",
       "      <th></th>\n",
       "      <th>cohesion</th>\n",
       "      <th>syntax</th>\n",
       "      <th>vocabulary</th>\n",
       "      <th>phraseology</th>\n",
       "      <th>grammar</th>\n",
       "      <th>conventions</th>\n",
       "    </tr>\n",
       "    <tr>\n",
       "      <th>text_id</th>\n",
       "      <th></th>\n",
       "      <th></th>\n",
       "      <th></th>\n",
       "      <th></th>\n",
       "      <th></th>\n",
       "      <th></th>\n",
       "    </tr>\n",
       "  </thead>\n",
       "  <tbody>\n",
       "    <tr>\n",
       "      <th>0016926B079C</th>\n",
       "      <td>3.5</td>\n",
       "      <td>3.5</td>\n",
       "      <td>3.0</td>\n",
       "      <td>3.0</td>\n",
       "      <td>4.0</td>\n",
       "      <td>3.0</td>\n",
       "    </tr>\n",
       "    <tr>\n",
       "      <th>0022683E9EA5</th>\n",
       "      <td>2.5</td>\n",
       "      <td>2.5</td>\n",
       "      <td>3.0</td>\n",
       "      <td>2.0</td>\n",
       "      <td>2.0</td>\n",
       "      <td>2.5</td>\n",
       "    </tr>\n",
       "  </tbody>\n",
       "</table>\n",
       "</div>"
      ],
      "text/plain": [
       "              cohesion  syntax  vocabulary  phraseology  grammar  conventions\n",
       "text_id                                                                      \n",
       "0016926B079C       3.5     3.5         3.0          3.0      4.0          3.0\n",
       "0022683E9EA5       2.5     2.5         3.0          2.0      2.0          2.5"
      ]
     },
     "execution_count": 5,
     "metadata": {},
     "output_type": "execute_result"
    }
   ],
   "source": [
    "scores.head(2)"
   ]
  },
  {
   "cell_type": "code",
   "execution_count": 6,
   "id": "91a18e77",
   "metadata": {},
   "outputs": [
    {
     "data": {
      "image/png": "[encoded data removed]",
      "text/plain": [
       "<Figure size 864x576 with 6 Axes>"
      ]
     },
     "metadata": {
      "needs_background": "light"
     },
     "output_type": "display_data"
    }
   ],
   "source": [
    "scores.hist(figsize=(12, 8));"
   ]
  },
  {
   "cell_type": "code",
   "execution_count": 7,
   "id": "3da970ea",
   "metadata": {},
   "outputs": [
    {
     "data": {
      "text/html": [
       "<div>\n",
       "<style scoped>\n",
       "    .dataframe tbody tr th:only-of-type {\n",
       "        vertical-align: middle;\n",
       "    }\n",
       "\n",
       "    .dataframe tbody tr th {\n",
       "        vertical-align: top;\n",
       "    }\n",
       "\n",
       "    .dataframe thead th {\n",
       "        text-align: right;\n",
       "    }\n",
       "</style>\n",
       "<table border=\"1\" class=\"dataframe\">\n",
       "  <thead>\n",
       "    <tr style=\"text-align: right;\">\n",
       "      <th></th>\n",
       "      <th>full_text</th>\n",
       "    </tr>\n",
       "    <tr>\n",
       "      <th>text_id</th>\n",
       "      <th></th>\n",
       "    </tr>\n",
       "  </thead>\n",
       "  <tbody>\n",
       "    <tr>\n",
       "      <th>0000C359D63E</th>\n",
       "      <td>when a person has no experience on a job their...</td>\n",
       "    </tr>\n",
       "    <tr>\n",
       "      <th>000BAD50D026</th>\n",
       "      <td>Do you think students would benefit from being...</td>\n",
       "    </tr>\n",
       "    <tr>\n",
       "      <th>00367BB2546B</th>\n",
       "      <td>Thomas Jefferson once states that \"it is wonde...</td>\n",
       "    </tr>\n",
       "  </tbody>\n",
       "</table>\n",
       "</div>"
      ],
      "text/plain": [
       "                                                      full_text\n",
       "text_id                                                        \n",
       "0000C359D63E  when a person has no experience on a job their...\n",
       "000BAD50D026  Do you think students would benefit from being...\n",
       "00367BB2546B  Thomas Jefferson once states that \"it is wonde..."
      ]
     },
     "execution_count": 7,
     "metadata": {},
     "output_type": "execute_result"
    }
   ],
   "source": [
    "df_test = pd.read_csv('test.csv').set_index('text_id')\n",
    "df_test\n",
    "#3 rows x 1 columns"
   ]
  },
  {
   "cell_type": "code",
   "execution_count": 8,
   "id": "ac882925",
   "metadata": {},
   "outputs": [
    {
     "data": {
      "text/plain": [
       "text_id\n",
       "0000C359D63E    when a person has no experience on a job their...\n",
       "000BAD50D026    Do you think students would benefit from being...\n",
       "00367BB2546B    Thomas Jefferson once states that \"it is wonde...\n",
       "Name: full_text, dtype: object"
      ]
     },
     "execution_count": 8,
     "metadata": {},
     "output_type": "execute_result"
    }
   ],
   "source": [
    "text_test = df_test['full_text']\n",
    "text_test"
   ]
  },
  {
   "cell_type": "code",
   "execution_count": 9,
   "id": "29549346",
   "metadata": {},
   "outputs": [],
   "source": [
    "tfidf = TfidfVectorizer()\n",
    "\n",
    "Xtrain = tfidf.fit_transform(text_train)\n",
    "Xtest = tfidf.transform(text_test)"
   ]
  },
  {
   "cell_type": "code",
   "execution_count": 10,
   "id": "d4c5817c",
   "metadata": {},
   "outputs": [
    {
     "data": {
      "text/plain": [
       "<3911x21363 sparse matrix of type '<class 'numpy.float64'>'\n",
       "\twith 575712 stored elements in Compressed Sparse Row format>"
      ]
     },
     "execution_count": 10,
     "metadata": {},
     "output_type": "execute_result"
    }
   ],
   "source": [
    "Xtrain"
   ]
  },
  {
   "cell_type": "code",
   "execution_count": 11,
   "id": "f9ab04d8",
   "metadata": {},
   "outputs": [
    {
     "data": {
      "text/plain": [
       "<3x21363 sparse matrix of type '<class 'numpy.float64'>'\n",
       "\twith 505 stored elements in Compressed Sparse Row format>"
      ]
     },
     "execution_count": 11,
     "metadata": {},
     "output_type": "execute_result"
    }
   ],
   "source": [
    "Xtest"
   ]
  },
  {
   "cell_type": "markdown",
   "id": "ab87ddd6",
   "metadata": {},
   "source": [
    "### [Multioutput regression](https://scikit-learn.org/stable/modules/multiclass.html#multioutput-regression)"
   ]
  },
  {
   "cell_type": "markdown",
   "id": "50bcfed8",
   "metadata": {},
   "source": [
    "- Linear Regression"
   ]
  },
  {
   "cell_type": "markdown",
   "id": "95f77da8",
   "metadata": {},
   "source": [
    "# 1"
   ]
  },
  {
   "cell_type": "code",
   "execution_count": 16,
   "id": "2a79033e",
   "metadata": {},
   "outputs": [
    {
     "data": {
      "text/plain": [
       "array([[2.37268678, 2.17505445, 2.60943511, 2.41990994, 2.33892492,\n",
       "        2.48537676],\n",
       "       [2.28679968, 2.97187796, 2.37082887, 2.54281909, 2.1781007 ,\n",
       "        3.10518308],\n",
       "       [2.56044223, 2.58995873, 3.17996289, 2.80377155, 2.94056311,\n",
       "        2.83635549]])"
      ]
     },
     "execution_count": 16,
     "metadata": {},
     "output_type": "execute_result"
    }
   ],
   "source": [
    "pred_LR = MultiOutputRegressor(LinearRegression()).fit(Xtrain, scores).predict(Xtest)\n",
    "pred_LR"
   ]
  },
  {
   "cell_type": "markdown",
   "id": "bf813696",
   "metadata": {},
   "source": [
    "- Gradient Boosting Regressor"
   ]
  },
  {
   "cell_type": "markdown",
   "id": "3cfca415",
   "metadata": {},
   "source": [
    "# 2"
   ]
  },
  {
   "cell_type": "code",
   "execution_count": 13,
   "id": "ff6559c7",
   "metadata": {},
   "outputs": [
    {
     "data": {
      "text/plain": [
       "array([[3.08808428, 3.0558509 , 3.3174007 , 3.05670108, 2.82469349,\n",
       "        3.03123783],\n",
       "       [2.8110017 , 2.90538599, 3.08251654, 3.04372477, 2.66804475,\n",
       "        3.23412263],\n",
       "       [3.45109844, 3.35841307, 3.58406823, 3.49078647, 3.49361655,\n",
       "        3.51728172]])"
      ]
     },
     "execution_count": 13,
     "metadata": {},
     "output_type": "execute_result"
    }
   ],
   "source": [
    "pred_GBR = MultiOutputRegressor(GradientBoostingRegressor(random_state=0)).fit(Xtrain, scores).predict(Xtest)\n",
    "pred_GBR"
   ]
  },
  {
   "cell_type": "code",
   "execution_count": 14,
   "id": "e10d3c04",
   "metadata": {},
   "outputs": [
    {
     "data": {
      "text/plain": [
       "array([[3.08808428, 3.0558509 , 3.3174007 , 3.05670108, 2.82469349,\n",
       "        3.03123783],\n",
       "       [2.8110017 , 2.90538599, 3.08251654, 2.99791568, 2.66804475,\n",
       "        3.17542575],\n",
       "       [3.45109844, 3.35841307, 3.58406823, 3.49078647, 3.49361655,\n",
       "        3.51728172]])"
      ]
     },
     "execution_count": 14,
     "metadata": {},
     "output_type": "execute_result"
    }
   ],
   "source": [
    "pred_GBR2 = MultiOutputRegressor(GradientBoostingRegressor(random_state=30)).fit(Xtrain, scores).predict(Xtest)\n",
    "pred_GBR2"
   ]
  },
  {
   "cell_type": "code",
   "execution_count": 49,
   "id": "7b69082d",
   "metadata": {},
   "outputs": [
    {
     "data": {
      "text/plain": [
       "array([[3.08808428, 3.0558509 , 3.3174007 , 3.05670108, 2.82469349,\n",
       "        3.03123783],\n",
       "       [2.8110017 , 2.90538599, 3.08251654, 3.04372477, 2.66804475,\n",
       "        3.29115041],\n",
       "       [3.45109844, 3.35841307, 3.58406823, 3.49078647, 3.49361655,\n",
       "        3.51728172]])"
      ]
     },
     "execution_count": 49,
     "metadata": {},
     "output_type": "execute_result"
    }
   ],
   "source": [
    "pred_GBR3 = MultiOutputRegressor(GradientBoostingRegressor(random_state=123)).fit(Xtrain, scores).predict(Xtest)\n",
    "pred_GBR3"
   ]
  },
  {
   "cell_type": "markdown",
   "id": "fac5bda1",
   "metadata": {},
   "source": [
    "- XGBoost"
   ]
  },
  {
   "cell_type": "code",
   "execution_count": 46,
   "id": "7477e1ee",
   "metadata": {},
   "outputs": [],
   "source": [
    "#from sklearn.metrics import mean_absolute_error, mean_squared_error, r2_score"
   ]
  },
  {
   "cell_type": "code",
   "execution_count": 17,
   "id": "c92eabe8",
   "metadata": {
    "scrolled": true
   },
   "outputs": [
    {
     "data": {
      "text/plain": [
       "array([[2.9326432, 3.3689497, 3.25395  , 3.150637 , 2.0862305, 3.3239398],\n",
       "       [2.914214 , 2.7985024, 3.0792325, 2.6726224, 2.5353148, 3.3657627],\n",
       "       [3.6294007, 3.5832803, 3.8397763, 3.3889644, 3.8030221, 3.156573 ]],\n",
       "      dtype=float32)"
      ]
     },
     "execution_count": 17,
     "metadata": {},
     "output_type": "execute_result"
    }
   ],
   "source": [
    "pred_XGB = MultiOutputRegressor(xgb.XGBRegressor()).fit(Xtrain, scores).predict(Xtest)\n",
    "pred_XGB"
   ]
  },
  {
   "cell_type": "code",
   "execution_count": 48,
   "id": "63bfeebe",
   "metadata": {},
   "outputs": [],
   "source": [
    "# ValueError: Found input variables with inconsistent numbers of samples: [3911, 3]\n",
    "\n",
    "#print(\"R2 score              : \" + str(r2_score(scores, pred_XGB)))\n",
    "#print(\"Mean Absolute Error   : \" + str(mean_absolute_error(scores, pred_XGB)))\n",
    "#print(\"Mean Square Error     : \" + str(mean_squared_error(scores, pred_XGB)))\n",
    "#print(\"Root Mean Square Error: \" + str(np.sqrt(mean_squared_error(scores, pred_XGB))))"
   ]
  },
  {
   "cell_type": "code",
   "execution_count": 18,
   "id": "b1ac3dff",
   "metadata": {},
   "outputs": [
    {
     "data": {
      "text/plain": [
       "array([[2.9326432, 3.3689497, 3.25395  , 3.150637 , 2.0862305, 3.3239398],\n",
       "       [2.914214 , 2.7985024, 3.0792325, 2.6726224, 2.5353148, 3.3657627],\n",
       "       [3.6294007, 3.5832803, 3.8397763, 3.3889644, 3.8030221, 3.156573 ]],\n",
       "      dtype=float32)"
      ]
     },
     "execution_count": 18,
     "metadata": {},
     "output_type": "execute_result"
    }
   ],
   "source": [
    "pred_XGB2 = MultiOutputRegressor(xgb.XGBRegressor(objective='reg:squarederror')).fit(Xtrain, scores).predict(Xtest)\n",
    "pred_XGB2"
   ]
  },
  {
   "cell_type": "markdown",
   "id": "a66272ec",
   "metadata": {},
   "source": [
    "# 3"
   ]
  },
  {
   "cell_type": "code",
   "execution_count": 19,
   "id": "9c3d22e8",
   "metadata": {},
   "outputs": [
    {
     "data": {
      "text/plain": [
       "array([[2.8756032, 3.3285854, 3.2441187, 3.116257 , 2.0395732, 3.131411 ],\n",
       "       [2.899893 , 2.8009636, 3.0473385, 2.61858  , 2.4579442, 3.4124675],\n",
       "       [3.709138 , 3.5200489, 3.88416  , 3.408669 , 3.865945 , 3.0870168]],\n",
       "      dtype=float32)"
      ]
     },
     "execution_count": 19,
     "metadata": {},
     "output_type": "execute_result"
    }
   ],
   "source": [
    "pred_XGB3 = MultiOutputRegressor(xgb.XGBRegressor(n_estimators=500)).fit(Xtrain, scores).predict(Xtest)\n",
    "pred_XGB3"
   ]
  },
  {
   "cell_type": "code",
   "execution_count": 20,
   "id": "0f242001",
   "metadata": {},
   "outputs": [
    {
     "data": {
      "text/plain": [
       "array([[2.875607 , 3.3253577, 3.2415957, 3.119372 , 2.0234044, 3.0945919],\n",
       "       [2.8959725, 2.7943919, 3.051571 , 2.6216862, 2.456751 , 3.427145 ],\n",
       "       [3.7305188, 3.5099978, 3.8705301, 3.4061508, 3.865984 , 3.0869591]],\n",
       "      dtype=float32)"
      ]
     },
     "execution_count": 20,
     "metadata": {},
     "output_type": "execute_result"
    }
   ],
   "source": [
    "pred_XGB4 = MultiOutputRegressor(xgb.XGBRegressor(n_estimators=1000)).fit(Xtrain, scores).predict(Xtest)\n",
    "pred_XGB4"
   ]
  },
  {
   "cell_type": "markdown",
   "id": "0aa90667",
   "metadata": {},
   "source": [
    "## Submission"
   ]
  },
  {
   "cell_type": "code",
   "execution_count": 38,
   "id": "82e4d9e7",
   "metadata": {},
   "outputs": [
    {
     "data": {
      "text/html": [
       "<div>\n",
       "<style scoped>\n",
       "    .dataframe tbody tr th:only-of-type {\n",
       "        vertical-align: middle;\n",
       "    }\n",
       "\n",
       "    .dataframe tbody tr th {\n",
       "        vertical-align: top;\n",
       "    }\n",
       "\n",
       "    .dataframe thead th {\n",
       "        text-align: right;\n",
       "    }\n",
       "</style>\n",
       "<table border=\"1\" class=\"dataframe\">\n",
       "  <thead>\n",
       "    <tr style=\"text-align: right;\">\n",
       "      <th></th>\n",
       "      <th>cohesion</th>\n",
       "      <th>syntax</th>\n",
       "      <th>vocabulary</th>\n",
       "      <th>phraseology</th>\n",
       "      <th>grammar</th>\n",
       "      <th>conventions</th>\n",
       "    </tr>\n",
       "    <tr>\n",
       "      <th>text_id</th>\n",
       "      <th></th>\n",
       "      <th></th>\n",
       "      <th></th>\n",
       "      <th></th>\n",
       "      <th></th>\n",
       "      <th></th>\n",
       "    </tr>\n",
       "  </thead>\n",
       "  <tbody>\n",
       "    <tr>\n",
       "      <th>0000C359D63E</th>\n",
       "      <td>2.372687</td>\n",
       "      <td>2.175054</td>\n",
       "      <td>2.609435</td>\n",
       "      <td>2.419910</td>\n",
       "      <td>2.338925</td>\n",
       "      <td>2.485377</td>\n",
       "    </tr>\n",
       "    <tr>\n",
       "      <th>000BAD50D026</th>\n",
       "      <td>2.286800</td>\n",
       "      <td>2.971878</td>\n",
       "      <td>2.370829</td>\n",
       "      <td>2.542819</td>\n",
       "      <td>2.178101</td>\n",
       "      <td>3.105183</td>\n",
       "    </tr>\n",
       "    <tr>\n",
       "      <th>00367BB2546B</th>\n",
       "      <td>2.560442</td>\n",
       "      <td>2.589959</td>\n",
       "      <td>3.179963</td>\n",
       "      <td>2.803772</td>\n",
       "      <td>2.940563</td>\n",
       "      <td>2.836355</td>\n",
       "    </tr>\n",
       "  </tbody>\n",
       "</table>\n",
       "</div>"
      ],
      "text/plain": [
       "              cohesion    syntax  vocabulary  phraseology   grammar  \\\n",
       "text_id                                                               \n",
       "0000C359D63E  2.372687  2.175054    2.609435     2.419910  2.338925   \n",
       "000BAD50D026  2.286800  2.971878    2.370829     2.542819  2.178101   \n",
       "00367BB2546B  2.560442  2.589959    3.179963     2.803772  2.940563   \n",
       "\n",
       "              conventions  \n",
       "text_id                    \n",
       "0000C359D63E     2.485377  \n",
       "000BAD50D026     3.105183  \n",
       "00367BB2546B     2.836355  "
      ]
     },
     "execution_count": 38,
     "metadata": {},
     "output_type": "execute_result"
    }
   ],
   "source": [
    "submission1 = pd.DataFrame(data=pred_LR, index=df_test.index, columns=['cohesion', 'syntax', 'vocabulary', \n",
    "                                                   'phraseology', 'grammar', 'conventions'])\n",
    "submission1"
   ]
  },
  {
   "cell_type": "code",
   "execution_count": 39,
   "id": "e9357601",
   "metadata": {},
   "outputs": [],
   "source": [
    "#submission1.to_csv('submission.csv', index=False, header=True)"
   ]
  },
  {
   "cell_type": "code",
   "execution_count": 40,
   "id": "0ae12745",
   "metadata": {},
   "outputs": [
    {
     "data": {
      "text/html": [
       "<div>\n",
       "<style scoped>\n",
       "    .dataframe tbody tr th:only-of-type {\n",
       "        vertical-align: middle;\n",
       "    }\n",
       "\n",
       "    .dataframe tbody tr th {\n",
       "        vertical-align: top;\n",
       "    }\n",
       "\n",
       "    .dataframe thead th {\n",
       "        text-align: right;\n",
       "    }\n",
       "</style>\n",
       "<table border=\"1\" class=\"dataframe\">\n",
       "  <thead>\n",
       "    <tr style=\"text-align: right;\">\n",
       "      <th></th>\n",
       "      <th>cohesion</th>\n",
       "      <th>syntax</th>\n",
       "      <th>vocabulary</th>\n",
       "      <th>phraseology</th>\n",
       "      <th>grammar</th>\n",
       "      <th>conventions</th>\n",
       "    </tr>\n",
       "    <tr>\n",
       "      <th>text_id</th>\n",
       "      <th></th>\n",
       "      <th></th>\n",
       "      <th></th>\n",
       "      <th></th>\n",
       "      <th></th>\n",
       "      <th></th>\n",
       "    </tr>\n",
       "  </thead>\n",
       "  <tbody>\n",
       "    <tr>\n",
       "      <th>0000C359D63E</th>\n",
       "      <td>3.088084</td>\n",
       "      <td>3.055851</td>\n",
       "      <td>3.317401</td>\n",
       "      <td>3.056701</td>\n",
       "      <td>2.824693</td>\n",
       "      <td>3.031238</td>\n",
       "    </tr>\n",
       "    <tr>\n",
       "      <th>000BAD50D026</th>\n",
       "      <td>2.811002</td>\n",
       "      <td>2.905386</td>\n",
       "      <td>3.082517</td>\n",
       "      <td>3.043725</td>\n",
       "      <td>2.668045</td>\n",
       "      <td>3.234123</td>\n",
       "    </tr>\n",
       "    <tr>\n",
       "      <th>00367BB2546B</th>\n",
       "      <td>3.451098</td>\n",
       "      <td>3.358413</td>\n",
       "      <td>3.584068</td>\n",
       "      <td>3.490786</td>\n",
       "      <td>3.493617</td>\n",
       "      <td>3.517282</td>\n",
       "    </tr>\n",
       "  </tbody>\n",
       "</table>\n",
       "</div>"
      ],
      "text/plain": [
       "              cohesion    syntax  vocabulary  phraseology   grammar  \\\n",
       "text_id                                                               \n",
       "0000C359D63E  3.088084  3.055851    3.317401     3.056701  2.824693   \n",
       "000BAD50D026  2.811002  2.905386    3.082517     3.043725  2.668045   \n",
       "00367BB2546B  3.451098  3.358413    3.584068     3.490786  3.493617   \n",
       "\n",
       "              conventions  \n",
       "text_id                    \n",
       "0000C359D63E     3.031238  \n",
       "000BAD50D026     3.234123  \n",
       "00367BB2546B     3.517282  "
      ]
     },
     "execution_count": 40,
     "metadata": {},
     "output_type": "execute_result"
    }
   ],
   "source": [
    "submission2 = pd.DataFrame(data=pred_GBR, index=df_test.index, columns=['cohesion', 'syntax', 'vocabulary', \n",
    "                                                   'phraseology', 'grammar', 'conventions'])\n",
    "submission2"
   ]
  },
  {
   "cell_type": "code",
   "execution_count": null,
   "id": "64bbcee3",
   "metadata": {},
   "outputs": [],
   "source": [
    "#submission2.to_csv('submission.csv', index=False, header=True)"
   ]
  },
  {
   "cell_type": "code",
   "execution_count": 41,
   "id": "7d82ca5c",
   "metadata": {},
   "outputs": [
    {
     "data": {
      "text/html": [
       "<div>\n",
       "<style scoped>\n",
       "    .dataframe tbody tr th:only-of-type {\n",
       "        vertical-align: middle;\n",
       "    }\n",
       "\n",
       "    .dataframe tbody tr th {\n",
       "        vertical-align: top;\n",
       "    }\n",
       "\n",
       "    .dataframe thead th {\n",
       "        text-align: right;\n",
       "    }\n",
       "</style>\n",
       "<table border=\"1\" class=\"dataframe\">\n",
       "  <thead>\n",
       "    <tr style=\"text-align: right;\">\n",
       "      <th></th>\n",
       "      <th>cohesion</th>\n",
       "      <th>syntax</th>\n",
       "      <th>vocabulary</th>\n",
       "      <th>phraseology</th>\n",
       "      <th>grammar</th>\n",
       "      <th>conventions</th>\n",
       "    </tr>\n",
       "    <tr>\n",
       "      <th>text_id</th>\n",
       "      <th></th>\n",
       "      <th></th>\n",
       "      <th></th>\n",
       "      <th></th>\n",
       "      <th></th>\n",
       "      <th></th>\n",
       "    </tr>\n",
       "  </thead>\n",
       "  <tbody>\n",
       "    <tr>\n",
       "      <th>0000C359D63E</th>\n",
       "      <td>3.088084</td>\n",
       "      <td>3.055851</td>\n",
       "      <td>3.317401</td>\n",
       "      <td>3.056701</td>\n",
       "      <td>2.824693</td>\n",
       "      <td>3.031238</td>\n",
       "    </tr>\n",
       "    <tr>\n",
       "      <th>000BAD50D026</th>\n",
       "      <td>2.811002</td>\n",
       "      <td>2.905386</td>\n",
       "      <td>3.082517</td>\n",
       "      <td>2.997916</td>\n",
       "      <td>2.668045</td>\n",
       "      <td>3.175426</td>\n",
       "    </tr>\n",
       "    <tr>\n",
       "      <th>00367BB2546B</th>\n",
       "      <td>3.451098</td>\n",
       "      <td>3.358413</td>\n",
       "      <td>3.584068</td>\n",
       "      <td>3.490786</td>\n",
       "      <td>3.493617</td>\n",
       "      <td>3.517282</td>\n",
       "    </tr>\n",
       "  </tbody>\n",
       "</table>\n",
       "</div>"
      ],
      "text/plain": [
       "              cohesion    syntax  vocabulary  phraseology   grammar  \\\n",
       "text_id                                                               \n",
       "0000C359D63E  3.088084  3.055851    3.317401     3.056701  2.824693   \n",
       "000BAD50D026  2.811002  2.905386    3.082517     2.997916  2.668045   \n",
       "00367BB2546B  3.451098  3.358413    3.584068     3.490786  3.493617   \n",
       "\n",
       "              conventions  \n",
       "text_id                    \n",
       "0000C359D63E     3.031238  \n",
       "000BAD50D026     3.175426  \n",
       "00367BB2546B     3.517282  "
      ]
     },
     "execution_count": 41,
     "metadata": {},
     "output_type": "execute_result"
    }
   ],
   "source": [
    "submission3 = pd.DataFrame(data=pred_GBR2, index=df_test.index, columns=['cohesion', 'syntax', 'vocabulary', \n",
    "                                                   'phraseology', 'grammar', 'conventions'])\n",
    "submission3"
   ]
  },
  {
   "cell_type": "code",
   "execution_count": null,
   "id": "440364e7",
   "metadata": {},
   "outputs": [],
   "source": [
    "#submission3.to_csv('submission.csv', index=False, header=True)"
   ]
  },
  {
   "cell_type": "code",
   "execution_count": 50,
   "id": "042b3281",
   "metadata": {},
   "outputs": [
    {
     "data": {
      "text/html": [
       "<div>\n",
       "<style scoped>\n",
       "    .dataframe tbody tr th:only-of-type {\n",
       "        vertical-align: middle;\n",
       "    }\n",
       "\n",
       "    .dataframe tbody tr th {\n",
       "        vertical-align: top;\n",
       "    }\n",
       "\n",
       "    .dataframe thead th {\n",
       "        text-align: right;\n",
       "    }\n",
       "</style>\n",
       "<table border=\"1\" class=\"dataframe\">\n",
       "  <thead>\n",
       "    <tr style=\"text-align: right;\">\n",
       "      <th></th>\n",
       "      <th>cohesion</th>\n",
       "      <th>syntax</th>\n",
       "      <th>vocabulary</th>\n",
       "      <th>phraseology</th>\n",
       "      <th>grammar</th>\n",
       "      <th>conventions</th>\n",
       "    </tr>\n",
       "    <tr>\n",
       "      <th>text_id</th>\n",
       "      <th></th>\n",
       "      <th></th>\n",
       "      <th></th>\n",
       "      <th></th>\n",
       "      <th></th>\n",
       "      <th></th>\n",
       "    </tr>\n",
       "  </thead>\n",
       "  <tbody>\n",
       "    <tr>\n",
       "      <th>0000C359D63E</th>\n",
       "      <td>3.088084</td>\n",
       "      <td>3.055851</td>\n",
       "      <td>3.317401</td>\n",
       "      <td>3.056701</td>\n",
       "      <td>2.824693</td>\n",
       "      <td>3.031238</td>\n",
       "    </tr>\n",
       "    <tr>\n",
       "      <th>000BAD50D026</th>\n",
       "      <td>2.811002</td>\n",
       "      <td>2.905386</td>\n",
       "      <td>3.082517</td>\n",
       "      <td>3.043725</td>\n",
       "      <td>2.668045</td>\n",
       "      <td>3.291150</td>\n",
       "    </tr>\n",
       "    <tr>\n",
       "      <th>00367BB2546B</th>\n",
       "      <td>3.451098</td>\n",
       "      <td>3.358413</td>\n",
       "      <td>3.584068</td>\n",
       "      <td>3.490786</td>\n",
       "      <td>3.493617</td>\n",
       "      <td>3.517282</td>\n",
       "    </tr>\n",
       "  </tbody>\n",
       "</table>\n",
       "</div>"
      ],
      "text/plain": [
       "              cohesion    syntax  vocabulary  phraseology   grammar  \\\n",
       "text_id                                                               \n",
       "0000C359D63E  3.088084  3.055851    3.317401     3.056701  2.824693   \n",
       "000BAD50D026  2.811002  2.905386    3.082517     3.043725  2.668045   \n",
       "00367BB2546B  3.451098  3.358413    3.584068     3.490786  3.493617   \n",
       "\n",
       "              conventions  \n",
       "text_id                    \n",
       "0000C359D63E     3.031238  \n",
       "000BAD50D026     3.291150  \n",
       "00367BB2546B     3.517282  "
      ]
     },
     "execution_count": 50,
     "metadata": {},
     "output_type": "execute_result"
    }
   ],
   "source": [
    "submission3_1 = pd.DataFrame(data=pred_GBR3, index=df_test.index, columns=['cohesion', 'syntax', 'vocabulary', \n",
    "                                                   'phraseology', 'grammar', 'conventions'])\n",
    "submission3_1"
   ]
  },
  {
   "cell_type": "code",
   "execution_count": null,
   "id": "ef788ac8",
   "metadata": {},
   "outputs": [],
   "source": [
    "#submission3_1.to_csv('submission.csv', index=False, header=True)"
   ]
  },
  {
   "cell_type": "code",
   "execution_count": 42,
   "id": "6cc581f9",
   "metadata": {},
   "outputs": [
    {
     "data": {
      "text/html": [
       "<div>\n",
       "<style scoped>\n",
       "    .dataframe tbody tr th:only-of-type {\n",
       "        vertical-align: middle;\n",
       "    }\n",
       "\n",
       "    .dataframe tbody tr th {\n",
       "        vertical-align: top;\n",
       "    }\n",
       "\n",
       "    .dataframe thead th {\n",
       "        text-align: right;\n",
       "    }\n",
       "</style>\n",
       "<table border=\"1\" class=\"dataframe\">\n",
       "  <thead>\n",
       "    <tr style=\"text-align: right;\">\n",
       "      <th></th>\n",
       "      <th>cohesion</th>\n",
       "      <th>syntax</th>\n",
       "      <th>vocabulary</th>\n",
       "      <th>phraseology</th>\n",
       "      <th>grammar</th>\n",
       "      <th>conventions</th>\n",
       "    </tr>\n",
       "    <tr>\n",
       "      <th>text_id</th>\n",
       "      <th></th>\n",
       "      <th></th>\n",
       "      <th></th>\n",
       "      <th></th>\n",
       "      <th></th>\n",
       "      <th></th>\n",
       "    </tr>\n",
       "  </thead>\n",
       "  <tbody>\n",
       "    <tr>\n",
       "      <th>0000C359D63E</th>\n",
       "      <td>2.932643</td>\n",
       "      <td>3.368950</td>\n",
       "      <td>3.253950</td>\n",
       "      <td>3.150637</td>\n",
       "      <td>2.086231</td>\n",
       "      <td>3.323940</td>\n",
       "    </tr>\n",
       "    <tr>\n",
       "      <th>000BAD50D026</th>\n",
       "      <td>2.914214</td>\n",
       "      <td>2.798502</td>\n",
       "      <td>3.079232</td>\n",
       "      <td>2.672622</td>\n",
       "      <td>2.535315</td>\n",
       "      <td>3.365763</td>\n",
       "    </tr>\n",
       "    <tr>\n",
       "      <th>00367BB2546B</th>\n",
       "      <td>3.629401</td>\n",
       "      <td>3.583280</td>\n",
       "      <td>3.839776</td>\n",
       "      <td>3.388964</td>\n",
       "      <td>3.803022</td>\n",
       "      <td>3.156573</td>\n",
       "    </tr>\n",
       "  </tbody>\n",
       "</table>\n",
       "</div>"
      ],
      "text/plain": [
       "              cohesion    syntax  vocabulary  phraseology   grammar  \\\n",
       "text_id                                                               \n",
       "0000C359D63E  2.932643  3.368950    3.253950     3.150637  2.086231   \n",
       "000BAD50D026  2.914214  2.798502    3.079232     2.672622  2.535315   \n",
       "00367BB2546B  3.629401  3.583280    3.839776     3.388964  3.803022   \n",
       "\n",
       "              conventions  \n",
       "text_id                    \n",
       "0000C359D63E     3.323940  \n",
       "000BAD50D026     3.365763  \n",
       "00367BB2546B     3.156573  "
      ]
     },
     "execution_count": 42,
     "metadata": {},
     "output_type": "execute_result"
    }
   ],
   "source": [
    "submission4 = pd.DataFrame(data=pred_XGB, index=df_test.index, columns=['cohesion', 'syntax', 'vocabulary', \n",
    "                                                   'phraseology', 'grammar', 'conventions'])\n",
    "submission4"
   ]
  },
  {
   "cell_type": "code",
   "execution_count": null,
   "id": "dcddc2e4",
   "metadata": {},
   "outputs": [],
   "source": [
    "#submission4.to_csv('submission.csv', index=False, header=True)"
   ]
  },
  {
   "cell_type": "code",
   "execution_count": 43,
   "id": "8338848a",
   "metadata": {},
   "outputs": [
    {
     "data": {
      "text/html": [
       "<div>\n",
       "<style scoped>\n",
       "    .dataframe tbody tr th:only-of-type {\n",
       "        vertical-align: middle;\n",
       "    }\n",
       "\n",
       "    .dataframe tbody tr th {\n",
       "        vertical-align: top;\n",
       "    }\n",
       "\n",
       "    .dataframe thead th {\n",
       "        text-align: right;\n",
       "    }\n",
       "</style>\n",
       "<table border=\"1\" class=\"dataframe\">\n",
       "  <thead>\n",
       "    <tr style=\"text-align: right;\">\n",
       "      <th></th>\n",
       "      <th>cohesion</th>\n",
       "      <th>syntax</th>\n",
       "      <th>vocabulary</th>\n",
       "      <th>phraseology</th>\n",
       "      <th>grammar</th>\n",
       "      <th>conventions</th>\n",
       "    </tr>\n",
       "    <tr>\n",
       "      <th>text_id</th>\n",
       "      <th></th>\n",
       "      <th></th>\n",
       "      <th></th>\n",
       "      <th></th>\n",
       "      <th></th>\n",
       "      <th></th>\n",
       "    </tr>\n",
       "  </thead>\n",
       "  <tbody>\n",
       "    <tr>\n",
       "      <th>0000C359D63E</th>\n",
       "      <td>2.932643</td>\n",
       "      <td>3.368950</td>\n",
       "      <td>3.253950</td>\n",
       "      <td>3.150637</td>\n",
       "      <td>2.086231</td>\n",
       "      <td>3.323940</td>\n",
       "    </tr>\n",
       "    <tr>\n",
       "      <th>000BAD50D026</th>\n",
       "      <td>2.914214</td>\n",
       "      <td>2.798502</td>\n",
       "      <td>3.079232</td>\n",
       "      <td>2.672622</td>\n",
       "      <td>2.535315</td>\n",
       "      <td>3.365763</td>\n",
       "    </tr>\n",
       "    <tr>\n",
       "      <th>00367BB2546B</th>\n",
       "      <td>3.629401</td>\n",
       "      <td>3.583280</td>\n",
       "      <td>3.839776</td>\n",
       "      <td>3.388964</td>\n",
       "      <td>3.803022</td>\n",
       "      <td>3.156573</td>\n",
       "    </tr>\n",
       "  </tbody>\n",
       "</table>\n",
       "</div>"
      ],
      "text/plain": [
       "              cohesion    syntax  vocabulary  phraseology   grammar  \\\n",
       "text_id                                                               \n",
       "0000C359D63E  2.932643  3.368950    3.253950     3.150637  2.086231   \n",
       "000BAD50D026  2.914214  2.798502    3.079232     2.672622  2.535315   \n",
       "00367BB2546B  3.629401  3.583280    3.839776     3.388964  3.803022   \n",
       "\n",
       "              conventions  \n",
       "text_id                    \n",
       "0000C359D63E     3.323940  \n",
       "000BAD50D026     3.365763  \n",
       "00367BB2546B     3.156573  "
      ]
     },
     "execution_count": 43,
     "metadata": {},
     "output_type": "execute_result"
    }
   ],
   "source": [
    "submission5 = pd.DataFrame(data=pred_XGB2, index=df_test.index, columns=['cohesion', 'syntax', 'vocabulary', \n",
    "                                                   'phraseology', 'grammar', 'conventions'])\n",
    "submission5"
   ]
  },
  {
   "cell_type": "code",
   "execution_count": null,
   "id": "6caa61c8",
   "metadata": {},
   "outputs": [],
   "source": [
    "#submission5.to_csv('submission.csv', index=False, header=True)"
   ]
  },
  {
   "cell_type": "code",
   "execution_count": 44,
   "id": "5244581e",
   "metadata": {},
   "outputs": [
    {
     "data": {
      "text/html": [
       "<div>\n",
       "<style scoped>\n",
       "    .dataframe tbody tr th:only-of-type {\n",
       "        vertical-align: middle;\n",
       "    }\n",
       "\n",
       "    .dataframe tbody tr th {\n",
       "        vertical-align: top;\n",
       "    }\n",
       "\n",
       "    .dataframe thead th {\n",
       "        text-align: right;\n",
       "    }\n",
       "</style>\n",
       "<table border=\"1\" class=\"dataframe\">\n",
       "  <thead>\n",
       "    <tr style=\"text-align: right;\">\n",
       "      <th></th>\n",
       "      <th>cohesion</th>\n",
       "      <th>syntax</th>\n",
       "      <th>vocabulary</th>\n",
       "      <th>phraseology</th>\n",
       "      <th>grammar</th>\n",
       "      <th>conventions</th>\n",
       "    </tr>\n",
       "    <tr>\n",
       "      <th>text_id</th>\n",
       "      <th></th>\n",
       "      <th></th>\n",
       "      <th></th>\n",
       "      <th></th>\n",
       "      <th></th>\n",
       "      <th></th>\n",
       "    </tr>\n",
       "  </thead>\n",
       "  <tbody>\n",
       "    <tr>\n",
       "      <th>0000C359D63E</th>\n",
       "      <td>2.875603</td>\n",
       "      <td>3.328585</td>\n",
       "      <td>3.244119</td>\n",
       "      <td>3.116257</td>\n",
       "      <td>2.039573</td>\n",
       "      <td>3.131411</td>\n",
       "    </tr>\n",
       "    <tr>\n",
       "      <th>000BAD50D026</th>\n",
       "      <td>2.899893</td>\n",
       "      <td>2.800964</td>\n",
       "      <td>3.047338</td>\n",
       "      <td>2.618580</td>\n",
       "      <td>2.457944</td>\n",
       "      <td>3.412467</td>\n",
       "    </tr>\n",
       "    <tr>\n",
       "      <th>00367BB2546B</th>\n",
       "      <td>3.709138</td>\n",
       "      <td>3.520049</td>\n",
       "      <td>3.884160</td>\n",
       "      <td>3.408669</td>\n",
       "      <td>3.865945</td>\n",
       "      <td>3.087017</td>\n",
       "    </tr>\n",
       "  </tbody>\n",
       "</table>\n",
       "</div>"
      ],
      "text/plain": [
       "              cohesion    syntax  vocabulary  phraseology   grammar  \\\n",
       "text_id                                                               \n",
       "0000C359D63E  2.875603  3.328585    3.244119     3.116257  2.039573   \n",
       "000BAD50D026  2.899893  2.800964    3.047338     2.618580  2.457944   \n",
       "00367BB2546B  3.709138  3.520049    3.884160     3.408669  3.865945   \n",
       "\n",
       "              conventions  \n",
       "text_id                    \n",
       "0000C359D63E     3.131411  \n",
       "000BAD50D026     3.412467  \n",
       "00367BB2546B     3.087017  "
      ]
     },
     "execution_count": 44,
     "metadata": {},
     "output_type": "execute_result"
    }
   ],
   "source": [
    "submission6 = pd.DataFrame(data=pred_XGB3, index=df_test.index, columns=['cohesion', 'syntax', 'vocabulary', \n",
    "                                                   'phraseology', 'grammar', 'conventions'])\n",
    "submission6"
   ]
  },
  {
   "cell_type": "code",
   "execution_count": null,
   "id": "b0cb29a0",
   "metadata": {},
   "outputs": [],
   "source": [
    "#submission6.to_csv('submission.csv', index=False, header=True)"
   ]
  },
  {
   "cell_type": "code",
   "execution_count": 45,
   "id": "f88c5bd5",
   "metadata": {},
   "outputs": [
    {
     "data": {
      "text/html": [
       "<div>\n",
       "<style scoped>\n",
       "    .dataframe tbody tr th:only-of-type {\n",
       "        vertical-align: middle;\n",
       "    }\n",
       "\n",
       "    .dataframe tbody tr th {\n",
       "        vertical-align: top;\n",
       "    }\n",
       "\n",
       "    .dataframe thead th {\n",
       "        text-align: right;\n",
       "    }\n",
       "</style>\n",
       "<table border=\"1\" class=\"dataframe\">\n",
       "  <thead>\n",
       "    <tr style=\"text-align: right;\">\n",
       "      <th></th>\n",
       "      <th>cohesion</th>\n",
       "      <th>syntax</th>\n",
       "      <th>vocabulary</th>\n",
       "      <th>phraseology</th>\n",
       "      <th>grammar</th>\n",
       "      <th>conventions</th>\n",
       "    </tr>\n",
       "    <tr>\n",
       "      <th>text_id</th>\n",
       "      <th></th>\n",
       "      <th></th>\n",
       "      <th></th>\n",
       "      <th></th>\n",
       "      <th></th>\n",
       "      <th></th>\n",
       "    </tr>\n",
       "  </thead>\n",
       "  <tbody>\n",
       "    <tr>\n",
       "      <th>0000C359D63E</th>\n",
       "      <td>2.875607</td>\n",
       "      <td>3.325358</td>\n",
       "      <td>3.241596</td>\n",
       "      <td>3.119372</td>\n",
       "      <td>2.023404</td>\n",
       "      <td>3.094592</td>\n",
       "    </tr>\n",
       "    <tr>\n",
       "      <th>000BAD50D026</th>\n",
       "      <td>2.895972</td>\n",
       "      <td>2.794392</td>\n",
       "      <td>3.051571</td>\n",
       "      <td>2.621686</td>\n",
       "      <td>2.456751</td>\n",
       "      <td>3.427145</td>\n",
       "    </tr>\n",
       "    <tr>\n",
       "      <th>00367BB2546B</th>\n",
       "      <td>3.730519</td>\n",
       "      <td>3.509998</td>\n",
       "      <td>3.870530</td>\n",
       "      <td>3.406151</td>\n",
       "      <td>3.865984</td>\n",
       "      <td>3.086959</td>\n",
       "    </tr>\n",
       "  </tbody>\n",
       "</table>\n",
       "</div>"
      ],
      "text/plain": [
       "              cohesion    syntax  vocabulary  phraseology   grammar  \\\n",
       "text_id                                                               \n",
       "0000C359D63E  2.875607  3.325358    3.241596     3.119372  2.023404   \n",
       "000BAD50D026  2.895972  2.794392    3.051571     2.621686  2.456751   \n",
       "00367BB2546B  3.730519  3.509998    3.870530     3.406151  3.865984   \n",
       "\n",
       "              conventions  \n",
       "text_id                    \n",
       "0000C359D63E     3.094592  \n",
       "000BAD50D026     3.427145  \n",
       "00367BB2546B     3.086959  "
      ]
     },
     "execution_count": 45,
     "metadata": {},
     "output_type": "execute_result"
    }
   ],
   "source": [
    "submission7 = pd.DataFrame(data=pred_XGB4, index=df_test.index, columns=['cohesion', 'syntax', 'vocabulary', \n",
    "                                                   'phraseology', 'grammar', 'conventions'])\n",
    "submission7"
   ]
  },
  {
   "cell_type": "code",
   "execution_count": null,
   "id": "60f6c1e5",
   "metadata": {},
   "outputs": [],
   "source": [
    "#submission7.to_csv('submission.csv', index=False, header=True)"
   ]
  },
  {
   "cell_type": "code",
   "execution_count": null,
   "id": "511a70ac",
   "metadata": {},
   "outputs": [],
   "source": []
  },
  {
   "cell_type": "code",
   "execution_count": null,
   "id": "f8f69bdb",
   "metadata": {},
   "outputs": [],
   "source": []
  }
 ],
 "metadata": {
  "kernelspec": {
   "display_name": "Python 3 (ipykernel)",
   "language": "python",
   "name": "python3"
  },
  "language_info": {
   "codemirror_mode": {
    "name": "ipython",
    "version": 3
   },
   "file_extension": ".py",
   "mimetype": "text/x-python",
   "name": "python",
   "nbconvert_exporter": "python",
   "pygments_lexer": "ipython3",
   "version": "3.7.13"
  }
 },
 "nbformat": 4,
 "nbformat_minor": 5
}
